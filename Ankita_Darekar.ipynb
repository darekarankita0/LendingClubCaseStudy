{
 "cells": [
  {
   "cell_type": "markdown",
   "id": "89e203f6",
   "metadata": {
    "id": "89e203f6"
   },
   "source": [
    "# Lending Club Case Study\n",
    "\n",
    "- Group Facilitator - Ankita Darekar\n",
    "\n",
    "- Team Member  - Anurag Sharma\n",
    "\n",
    "- Batch: AI&ML Nov’24 C 71\n"
   ]
  },
  {
   "cell_type": "markdown",
   "id": "6cf7e684",
   "metadata": {
    "id": "6cf7e684"
   },
   "source": [
    "#### **Problem Statement:** A consumer finance company specializes in providing loans to urban customers. Loan approval decisions are critical, as they involve two key risks:\n",
    "\n",
    "1.   Loss of business if reliable applicants are rejected.\n",
    "2.   Financial loss if risky applicants, who are likely to default, are approved.\n",
    "\n",
    "\n",
    "The company aims to identify patterns in customer and loan attributes that indicate the likelihood of default. This insight will help in making informed decisions, such as denying loans, adjusting loan amounts, or offering loans at higher interest rates to mitigate risk.\n",
    "\n",
    "\n",
    "#### **Business Objective:** Using EDA, analyze loan and customer data to uncover driving factors behind loan defaults. This will enable the company to minimize credit loss, improve portfolio management, and optimize risk assessment strategies."
   ]
  },
  {
   "cell_type": "code",
   "execution_count": 71,
   "id": "0c29e0c1",
   "metadata": {
    "id": "0c29e0c1"
   },
   "outputs": [],
   "source": [
    "# Importing necessary libraries\n",
    "\n",
    "import pandas as pd\n",
    "import numpy as np\n",
    "import matplotlib.pyplot as plt\n",
    "import seaborn as sns\n",
    "import warnings\n",
    "warnings.filterwarnings('ignore')\n",
    "%matplotlib inline"
   ]
  },
  {
   "cell_type": "code",
   "execution_count": 72,
   "id": "6762b130",
   "metadata": {
    "id": "6762b130"
   },
   "outputs": [],
   "source": [
    "# Importing the file through pandas and storing it in Dataframe\n",
    "\n",
    "loan_data_df = pd.read_csv('loan.csv')"
   ]
  },
  {
   "cell_type": "code",
   "execution_count": 73,
   "id": "9e33607b",
   "metadata": {
    "colab": {
     "base_uri": "https://localhost:8080/",
     "height": 342
    },
    "id": "9e33607b",
    "outputId": "b5d30ce7-8fc1-47b4-adf9-2667f007b2c2"
   },
   "outputs": [
    {
     "data": {
      "text/html": [
       "<div>\n",
       "<style scoped>\n",
       "    .dataframe tbody tr th:only-of-type {\n",
       "        vertical-align: middle;\n",
       "    }\n",
       "\n",
       "    .dataframe tbody tr th {\n",
       "        vertical-align: top;\n",
       "    }\n",
       "\n",
       "    .dataframe thead th {\n",
       "        text-align: right;\n",
       "    }\n",
       "</style>\n",
       "<table border=\"1\" class=\"dataframe\">\n",
       "  <thead>\n",
       "    <tr style=\"text-align: right;\">\n",
       "      <th></th>\n",
       "      <th>id</th>\n",
       "      <th>member_id</th>\n",
       "      <th>loan_amnt</th>\n",
       "      <th>funded_amnt</th>\n",
       "      <th>funded_amnt_inv</th>\n",
       "      <th>term</th>\n",
       "      <th>int_rate</th>\n",
       "      <th>installment</th>\n",
       "      <th>grade</th>\n",
       "      <th>sub_grade</th>\n",
       "      <th>...</th>\n",
       "      <th>num_tl_90g_dpd_24m</th>\n",
       "      <th>num_tl_op_past_12m</th>\n",
       "      <th>pct_tl_nvr_dlq</th>\n",
       "      <th>percent_bc_gt_75</th>\n",
       "      <th>pub_rec_bankruptcies</th>\n",
       "      <th>tax_liens</th>\n",
       "      <th>tot_hi_cred_lim</th>\n",
       "      <th>total_bal_ex_mort</th>\n",
       "      <th>total_bc_limit</th>\n",
       "      <th>total_il_high_credit_limit</th>\n",
       "    </tr>\n",
       "  </thead>\n",
       "  <tbody>\n",
       "    <tr>\n",
       "      <th>0</th>\n",
       "      <td>1077501</td>\n",
       "      <td>1296599</td>\n",
       "      <td>5000</td>\n",
       "      <td>5000</td>\n",
       "      <td>4975.0</td>\n",
       "      <td>36 months</td>\n",
       "      <td>10.65%</td>\n",
       "      <td>162.87</td>\n",
       "      <td>B</td>\n",
       "      <td>B2</td>\n",
       "      <td>...</td>\n",
       "      <td>NaN</td>\n",
       "      <td>NaN</td>\n",
       "      <td>NaN</td>\n",
       "      <td>NaN</td>\n",
       "      <td>0.0</td>\n",
       "      <td>0.0</td>\n",
       "      <td>NaN</td>\n",
       "      <td>NaN</td>\n",
       "      <td>NaN</td>\n",
       "      <td>NaN</td>\n",
       "    </tr>\n",
       "    <tr>\n",
       "      <th>1</th>\n",
       "      <td>1077430</td>\n",
       "      <td>1314167</td>\n",
       "      <td>2500</td>\n",
       "      <td>2500</td>\n",
       "      <td>2500.0</td>\n",
       "      <td>60 months</td>\n",
       "      <td>15.27%</td>\n",
       "      <td>59.83</td>\n",
       "      <td>C</td>\n",
       "      <td>C4</td>\n",
       "      <td>...</td>\n",
       "      <td>NaN</td>\n",
       "      <td>NaN</td>\n",
       "      <td>NaN</td>\n",
       "      <td>NaN</td>\n",
       "      <td>0.0</td>\n",
       "      <td>0.0</td>\n",
       "      <td>NaN</td>\n",
       "      <td>NaN</td>\n",
       "      <td>NaN</td>\n",
       "      <td>NaN</td>\n",
       "    </tr>\n",
       "    <tr>\n",
       "      <th>2</th>\n",
       "      <td>1077175</td>\n",
       "      <td>1313524</td>\n",
       "      <td>2400</td>\n",
       "      <td>2400</td>\n",
       "      <td>2400.0</td>\n",
       "      <td>36 months</td>\n",
       "      <td>15.96%</td>\n",
       "      <td>84.33</td>\n",
       "      <td>C</td>\n",
       "      <td>C5</td>\n",
       "      <td>...</td>\n",
       "      <td>NaN</td>\n",
       "      <td>NaN</td>\n",
       "      <td>NaN</td>\n",
       "      <td>NaN</td>\n",
       "      <td>0.0</td>\n",
       "      <td>0.0</td>\n",
       "      <td>NaN</td>\n",
       "      <td>NaN</td>\n",
       "      <td>NaN</td>\n",
       "      <td>NaN</td>\n",
       "    </tr>\n",
       "    <tr>\n",
       "      <th>3</th>\n",
       "      <td>1076863</td>\n",
       "      <td>1277178</td>\n",
       "      <td>10000</td>\n",
       "      <td>10000</td>\n",
       "      <td>10000.0</td>\n",
       "      <td>36 months</td>\n",
       "      <td>13.49%</td>\n",
       "      <td>339.31</td>\n",
       "      <td>C</td>\n",
       "      <td>C1</td>\n",
       "      <td>...</td>\n",
       "      <td>NaN</td>\n",
       "      <td>NaN</td>\n",
       "      <td>NaN</td>\n",
       "      <td>NaN</td>\n",
       "      <td>0.0</td>\n",
       "      <td>0.0</td>\n",
       "      <td>NaN</td>\n",
       "      <td>NaN</td>\n",
       "      <td>NaN</td>\n",
       "      <td>NaN</td>\n",
       "    </tr>\n",
       "    <tr>\n",
       "      <th>4</th>\n",
       "      <td>1075358</td>\n",
       "      <td>1311748</td>\n",
       "      <td>3000</td>\n",
       "      <td>3000</td>\n",
       "      <td>3000.0</td>\n",
       "      <td>60 months</td>\n",
       "      <td>12.69%</td>\n",
       "      <td>67.79</td>\n",
       "      <td>B</td>\n",
       "      <td>B5</td>\n",
       "      <td>...</td>\n",
       "      <td>NaN</td>\n",
       "      <td>NaN</td>\n",
       "      <td>NaN</td>\n",
       "      <td>NaN</td>\n",
       "      <td>0.0</td>\n",
       "      <td>0.0</td>\n",
       "      <td>NaN</td>\n",
       "      <td>NaN</td>\n",
       "      <td>NaN</td>\n",
       "      <td>NaN</td>\n",
       "    </tr>\n",
       "  </tbody>\n",
       "</table>\n",
       "<p>5 rows × 111 columns</p>\n",
       "</div>"
      ],
      "text/plain": [
       "        id  member_id  loan_amnt  funded_amnt  funded_amnt_inv        term  \\\n",
       "0  1077501    1296599       5000         5000           4975.0   36 months   \n",
       "1  1077430    1314167       2500         2500           2500.0   60 months   \n",
       "2  1077175    1313524       2400         2400           2400.0   36 months   \n",
       "3  1076863    1277178      10000        10000          10000.0   36 months   \n",
       "4  1075358    1311748       3000         3000           3000.0   60 months   \n",
       "\n",
       "  int_rate  installment grade sub_grade  ... num_tl_90g_dpd_24m  \\\n",
       "0   10.65%       162.87     B        B2  ...                NaN   \n",
       "1   15.27%        59.83     C        C4  ...                NaN   \n",
       "2   15.96%        84.33     C        C5  ...                NaN   \n",
       "3   13.49%       339.31     C        C1  ...                NaN   \n",
       "4   12.69%        67.79     B        B5  ...                NaN   \n",
       "\n",
       "  num_tl_op_past_12m pct_tl_nvr_dlq  percent_bc_gt_75 pub_rec_bankruptcies  \\\n",
       "0                NaN            NaN               NaN                  0.0   \n",
       "1                NaN            NaN               NaN                  0.0   \n",
       "2                NaN            NaN               NaN                  0.0   \n",
       "3                NaN            NaN               NaN                  0.0   \n",
       "4                NaN            NaN               NaN                  0.0   \n",
       "\n",
       "  tax_liens tot_hi_cred_lim total_bal_ex_mort total_bc_limit  \\\n",
       "0       0.0             NaN               NaN            NaN   \n",
       "1       0.0             NaN               NaN            NaN   \n",
       "2       0.0             NaN               NaN            NaN   \n",
       "3       0.0             NaN               NaN            NaN   \n",
       "4       0.0             NaN               NaN            NaN   \n",
       "\n",
       "  total_il_high_credit_limit  \n",
       "0                        NaN  \n",
       "1                        NaN  \n",
       "2                        NaN  \n",
       "3                        NaN  \n",
       "4                        NaN  \n",
       "\n",
       "[5 rows x 111 columns]"
      ]
     },
     "execution_count": 73,
     "metadata": {},
     "output_type": "execute_result"
    }
   ],
   "source": [
    "loan_data_df.head()"
   ]
  },
  {
   "cell_type": "code",
   "execution_count": 74,
   "id": "96e10acc",
   "metadata": {
    "colab": {
     "base_uri": "https://localhost:8080/"
    },
    "id": "96e10acc",
    "outputId": "96d72710-fdb1-412e-e9ad-da8fc721e83a"
   },
   "outputs": [
    {
     "data": {
      "text/plain": [
       "Index(['id', 'member_id', 'loan_amnt', 'funded_amnt', 'funded_amnt_inv',\n",
       "       'term', 'int_rate', 'installment', 'grade', 'sub_grade',\n",
       "       ...\n",
       "       'num_tl_90g_dpd_24m', 'num_tl_op_past_12m', 'pct_tl_nvr_dlq',\n",
       "       'percent_bc_gt_75', 'pub_rec_bankruptcies', 'tax_liens',\n",
       "       'tot_hi_cred_lim', 'total_bal_ex_mort', 'total_bc_limit',\n",
       "       'total_il_high_credit_limit'],\n",
       "      dtype='object', length=111)"
      ]
     },
     "execution_count": 74,
     "metadata": {},
     "output_type": "execute_result"
    }
   ],
   "source": [
    "# Checking the column names\n",
    "loan_data_df.columns"
   ]
  },
  {
   "cell_type": "code",
   "execution_count": 75,
   "id": "da35b133",
   "metadata": {
    "colab": {
     "base_uri": "https://localhost:8080/"
    },
    "id": "da35b133",
    "outputId": "92d84d70-7f87-452e-f802-14fee2a025c2"
   },
   "outputs": [
    {
     "data": {
      "text/plain": [
       "(39717, 111)"
      ]
     },
     "execution_count": 75,
     "metadata": {},
     "output_type": "execute_result"
    }
   ],
   "source": [
    "# Checking the shape of the dataframe\n",
    "loan_data_df.shape"
   ]
  },
  {
   "cell_type": "code",
   "execution_count": 76,
   "id": "f384e9db",
   "metadata": {
    "colab": {
     "base_uri": "https://localhost:8080/"
    },
    "id": "f384e9db",
    "outputId": "b94c431d-536a-4a27-e7ea-903d4d000f65"
   },
   "outputs": [
    {
     "name": "stdout",
     "output_type": "stream",
     "text": [
      "<class 'pandas.core.frame.DataFrame'>\n",
      "RangeIndex: 39717 entries, 0 to 39716\n",
      "Columns: 111 entries, id to total_il_high_credit_limit\n",
      "dtypes: float64(74), int64(13), object(24)\n",
      "memory usage: 33.6+ MB\n"
     ]
    }
   ],
   "source": [
    "loan_data_df.info()"
   ]
  },
  {
   "cell_type": "code",
   "execution_count": 77,
   "id": "f09a1738",
   "metadata": {
    "colab": {
     "base_uri": "https://localhost:8080/",
     "height": 458
    },
    "id": "f09a1738",
    "outputId": "aad2076b-33e2-4f09-c9f8-bf2691084be4"
   },
   "outputs": [
    {
     "data": {
      "text/plain": [
       "id                                0\n",
       "member_id                         0\n",
       "loan_amnt                         0\n",
       "funded_amnt                       0\n",
       "funded_amnt_inv                   0\n",
       "                              ...  \n",
       "tax_liens                        39\n",
       "tot_hi_cred_lim               39717\n",
       "total_bal_ex_mort             39717\n",
       "total_bc_limit                39717\n",
       "total_il_high_credit_limit    39717\n",
       "Length: 111, dtype: int64"
      ]
     },
     "execution_count": 77,
     "metadata": {},
     "output_type": "execute_result"
    }
   ],
   "source": [
    "loan_data_df.isnull().sum()"
   ]
  },
  {
   "cell_type": "markdown",
   "id": "98f0b904",
   "metadata": {
    "id": "98f0b904"
   },
   "source": [
    "#### Data Cleaning\n",
    "##### 1. Fix Rows/Columns: Remove empty columns and irrelevant rows.\n",
    "##### 2. Handle Missing Values: Drop columns/rows based on missing value percentages.\n",
    "##### 3. Standardize Data: Fix dates, numeric fields, and data types.\n",
    "##### 4. Correct Invalid Values: Remove unexpected text, symbols, etc.\n",
    "##### 5. Filter Data: Refine dataset as needed.\n",
    "##### 6. Fix Data Types: Correct mismatched types.\n",
    "##### 7. Treat Outliers: Manage anomalies effectively.\n"
   ]
  },
  {
   "cell_type": "markdown",
   "id": "809a4ede",
   "metadata": {
    "id": "809a4ede"
   },
   "source": [
    "## We could lot of columns which are entirely null we can go ahead and drop them from datafame"
   ]
  },
  {
   "cell_type": "code",
   "execution_count": 78,
   "id": "98fd3e66",
   "metadata": {
    "id": "98fd3e66"
   },
   "outputs": [],
   "source": [
    "# Removing the null columns from dataframe\n",
    "\n",
    "loan_data_df.dropna(axis= 1,how ='all',inplace=True )"
   ]
  },
  {
   "cell_type": "code",
   "execution_count": 79,
   "id": "2d93d540",
   "metadata": {
    "colab": {
     "base_uri": "https://localhost:8080/",
     "height": 342
    },
    "id": "2d93d540",
    "outputId": "52a6ee50-4a17-4fc5-c418-72900c27a811"
   },
   "outputs": [
    {
     "data": {
      "text/html": [
       "<div>\n",
       "<style scoped>\n",
       "    .dataframe tbody tr th:only-of-type {\n",
       "        vertical-align: middle;\n",
       "    }\n",
       "\n",
       "    .dataframe tbody tr th {\n",
       "        vertical-align: top;\n",
       "    }\n",
       "\n",
       "    .dataframe thead th {\n",
       "        text-align: right;\n",
       "    }\n",
       "</style>\n",
       "<table border=\"1\" class=\"dataframe\">\n",
       "  <thead>\n",
       "    <tr style=\"text-align: right;\">\n",
       "      <th></th>\n",
       "      <th>id</th>\n",
       "      <th>member_id</th>\n",
       "      <th>loan_amnt</th>\n",
       "      <th>funded_amnt</th>\n",
       "      <th>funded_amnt_inv</th>\n",
       "      <th>term</th>\n",
       "      <th>int_rate</th>\n",
       "      <th>installment</th>\n",
       "      <th>grade</th>\n",
       "      <th>sub_grade</th>\n",
       "      <th>...</th>\n",
       "      <th>next_pymnt_d</th>\n",
       "      <th>last_credit_pull_d</th>\n",
       "      <th>collections_12_mths_ex_med</th>\n",
       "      <th>policy_code</th>\n",
       "      <th>application_type</th>\n",
       "      <th>acc_now_delinq</th>\n",
       "      <th>chargeoff_within_12_mths</th>\n",
       "      <th>delinq_amnt</th>\n",
       "      <th>pub_rec_bankruptcies</th>\n",
       "      <th>tax_liens</th>\n",
       "    </tr>\n",
       "  </thead>\n",
       "  <tbody>\n",
       "    <tr>\n",
       "      <th>0</th>\n",
       "      <td>1077501</td>\n",
       "      <td>1296599</td>\n",
       "      <td>5000</td>\n",
       "      <td>5000</td>\n",
       "      <td>4975.0</td>\n",
       "      <td>36 months</td>\n",
       "      <td>10.65%</td>\n",
       "      <td>162.87</td>\n",
       "      <td>B</td>\n",
       "      <td>B2</td>\n",
       "      <td>...</td>\n",
       "      <td>NaN</td>\n",
       "      <td>May-16</td>\n",
       "      <td>0.0</td>\n",
       "      <td>1</td>\n",
       "      <td>INDIVIDUAL</td>\n",
       "      <td>0</td>\n",
       "      <td>0.0</td>\n",
       "      <td>0</td>\n",
       "      <td>0.0</td>\n",
       "      <td>0.0</td>\n",
       "    </tr>\n",
       "    <tr>\n",
       "      <th>1</th>\n",
       "      <td>1077430</td>\n",
       "      <td>1314167</td>\n",
       "      <td>2500</td>\n",
       "      <td>2500</td>\n",
       "      <td>2500.0</td>\n",
       "      <td>60 months</td>\n",
       "      <td>15.27%</td>\n",
       "      <td>59.83</td>\n",
       "      <td>C</td>\n",
       "      <td>C4</td>\n",
       "      <td>...</td>\n",
       "      <td>NaN</td>\n",
       "      <td>Sep-13</td>\n",
       "      <td>0.0</td>\n",
       "      <td>1</td>\n",
       "      <td>INDIVIDUAL</td>\n",
       "      <td>0</td>\n",
       "      <td>0.0</td>\n",
       "      <td>0</td>\n",
       "      <td>0.0</td>\n",
       "      <td>0.0</td>\n",
       "    </tr>\n",
       "    <tr>\n",
       "      <th>2</th>\n",
       "      <td>1077175</td>\n",
       "      <td>1313524</td>\n",
       "      <td>2400</td>\n",
       "      <td>2400</td>\n",
       "      <td>2400.0</td>\n",
       "      <td>36 months</td>\n",
       "      <td>15.96%</td>\n",
       "      <td>84.33</td>\n",
       "      <td>C</td>\n",
       "      <td>C5</td>\n",
       "      <td>...</td>\n",
       "      <td>NaN</td>\n",
       "      <td>May-16</td>\n",
       "      <td>0.0</td>\n",
       "      <td>1</td>\n",
       "      <td>INDIVIDUAL</td>\n",
       "      <td>0</td>\n",
       "      <td>0.0</td>\n",
       "      <td>0</td>\n",
       "      <td>0.0</td>\n",
       "      <td>0.0</td>\n",
       "    </tr>\n",
       "    <tr>\n",
       "      <th>3</th>\n",
       "      <td>1076863</td>\n",
       "      <td>1277178</td>\n",
       "      <td>10000</td>\n",
       "      <td>10000</td>\n",
       "      <td>10000.0</td>\n",
       "      <td>36 months</td>\n",
       "      <td>13.49%</td>\n",
       "      <td>339.31</td>\n",
       "      <td>C</td>\n",
       "      <td>C1</td>\n",
       "      <td>...</td>\n",
       "      <td>NaN</td>\n",
       "      <td>Apr-16</td>\n",
       "      <td>0.0</td>\n",
       "      <td>1</td>\n",
       "      <td>INDIVIDUAL</td>\n",
       "      <td>0</td>\n",
       "      <td>0.0</td>\n",
       "      <td>0</td>\n",
       "      <td>0.0</td>\n",
       "      <td>0.0</td>\n",
       "    </tr>\n",
       "    <tr>\n",
       "      <th>4</th>\n",
       "      <td>1075358</td>\n",
       "      <td>1311748</td>\n",
       "      <td>3000</td>\n",
       "      <td>3000</td>\n",
       "      <td>3000.0</td>\n",
       "      <td>60 months</td>\n",
       "      <td>12.69%</td>\n",
       "      <td>67.79</td>\n",
       "      <td>B</td>\n",
       "      <td>B5</td>\n",
       "      <td>...</td>\n",
       "      <td>Jun-16</td>\n",
       "      <td>May-16</td>\n",
       "      <td>0.0</td>\n",
       "      <td>1</td>\n",
       "      <td>INDIVIDUAL</td>\n",
       "      <td>0</td>\n",
       "      <td>0.0</td>\n",
       "      <td>0</td>\n",
       "      <td>0.0</td>\n",
       "      <td>0.0</td>\n",
       "    </tr>\n",
       "  </tbody>\n",
       "</table>\n",
       "<p>5 rows × 57 columns</p>\n",
       "</div>"
      ],
      "text/plain": [
       "        id  member_id  loan_amnt  funded_amnt  funded_amnt_inv        term  \\\n",
       "0  1077501    1296599       5000         5000           4975.0   36 months   \n",
       "1  1077430    1314167       2500         2500           2500.0   60 months   \n",
       "2  1077175    1313524       2400         2400           2400.0   36 months   \n",
       "3  1076863    1277178      10000        10000          10000.0   36 months   \n",
       "4  1075358    1311748       3000         3000           3000.0   60 months   \n",
       "\n",
       "  int_rate  installment grade sub_grade  ... next_pymnt_d last_credit_pull_d  \\\n",
       "0   10.65%       162.87     B        B2  ...          NaN             May-16   \n",
       "1   15.27%        59.83     C        C4  ...          NaN             Sep-13   \n",
       "2   15.96%        84.33     C        C5  ...          NaN             May-16   \n",
       "3   13.49%       339.31     C        C1  ...          NaN             Apr-16   \n",
       "4   12.69%        67.79     B        B5  ...       Jun-16             May-16   \n",
       "\n",
       "  collections_12_mths_ex_med  policy_code application_type acc_now_delinq  \\\n",
       "0                        0.0            1       INDIVIDUAL              0   \n",
       "1                        0.0            1       INDIVIDUAL              0   \n",
       "2                        0.0            1       INDIVIDUAL              0   \n",
       "3                        0.0            1       INDIVIDUAL              0   \n",
       "4                        0.0            1       INDIVIDUAL              0   \n",
       "\n",
       "  chargeoff_within_12_mths delinq_amnt pub_rec_bankruptcies tax_liens  \n",
       "0                      0.0           0                  0.0       0.0  \n",
       "1                      0.0           0                  0.0       0.0  \n",
       "2                      0.0           0                  0.0       0.0  \n",
       "3                      0.0           0                  0.0       0.0  \n",
       "4                      0.0           0                  0.0       0.0  \n",
       "\n",
       "[5 rows x 57 columns]"
      ]
     },
     "execution_count": 79,
     "metadata": {},
     "output_type": "execute_result"
    }
   ],
   "source": [
    "loan_data_df.head()"
   ]
  },
  {
   "cell_type": "code",
   "execution_count": 80,
   "id": "fd9a32c3",
   "metadata": {
    "colab": {
     "base_uri": "https://localhost:8080/"
    },
    "id": "fd9a32c3",
    "outputId": "74d6f29d-bf5a-490e-bec0-9b08e14bff9b"
   },
   "outputs": [
    {
     "data": {
      "text/plain": [
       "(39717, 57)"
      ]
     },
     "execution_count": 80,
     "metadata": {},
     "output_type": "execute_result"
    }
   ],
   "source": [
    "## After removing null columns we have left with 57 columns\n",
    "loan_data_df.shape"
   ]
  },
  {
   "cell_type": "code",
   "execution_count": 81,
   "id": "e34d5082",
   "metadata": {
    "colab": {
     "base_uri": "https://localhost:8080/"
    },
    "id": "e34d5082",
    "outputId": "0b3b1f14-4f19-421d-9543-01d2dd91840f"
   },
   "outputs": [
    {
     "data": {
      "text/plain": [
       "Index(['id', 'member_id', 'loan_amnt', 'funded_amnt', 'funded_amnt_inv',\n",
       "       'term', 'int_rate', 'installment', 'grade', 'sub_grade', 'emp_title',\n",
       "       'emp_length', 'home_ownership', 'annual_inc', 'verification_status',\n",
       "       'issue_d', 'loan_status', 'pymnt_plan', 'url', 'desc', 'purpose',\n",
       "       'title', 'zip_code', 'addr_state', 'dti', 'delinq_2yrs',\n",
       "       'earliest_cr_line', 'inq_last_6mths', 'mths_since_last_delinq',\n",
       "       'mths_since_last_record', 'open_acc', 'pub_rec', 'revol_bal',\n",
       "       'revol_util', 'total_acc', 'initial_list_status', 'out_prncp',\n",
       "       'out_prncp_inv', 'total_pymnt', 'total_pymnt_inv', 'total_rec_prncp',\n",
       "       'total_rec_int', 'total_rec_late_fee', 'recoveries',\n",
       "       'collection_recovery_fee', 'last_pymnt_d', 'last_pymnt_amnt',\n",
       "       'next_pymnt_d', 'last_credit_pull_d', 'collections_12_mths_ex_med',\n",
       "       'policy_code', 'application_type', 'acc_now_delinq',\n",
       "       'chargeoff_within_12_mths', 'delinq_amnt', 'pub_rec_bankruptcies',\n",
       "       'tax_liens'],\n",
       "      dtype='object')"
      ]
     },
     "execution_count": 81,
     "metadata": {},
     "output_type": "execute_result"
    }
   ],
   "source": [
    "loan_data_df.columns"
   ]
  },
  {
   "cell_type": "code",
   "execution_count": 82,
   "id": "eb2a4a08",
   "metadata": {
    "id": "eb2a4a08"
   },
   "outputs": [],
   "source": [
    "# checking columns where there are single values in columns, which are not helpful for our use case for analysis\n",
    "single_value_column =[]\n",
    "\n",
    "for i in loan_data_df.columns:\n",
    "    if loan_data_df[i].nunique()==1:\n",
    "        single_value_column.append(i)"
   ]
  },
  {
   "cell_type": "code",
   "execution_count": 83,
   "id": "950a55c6",
   "metadata": {
    "colab": {
     "base_uri": "https://localhost:8080/"
    },
    "id": "950a55c6",
    "outputId": "12479b42-edca-41c2-cf64-a869d03f44eb"
   },
   "outputs": [
    {
     "name": "stdout",
     "output_type": "stream",
     "text": [
      "pymnt_plan\n",
      "initial_list_status\n",
      "collections_12_mths_ex_med\n",
      "policy_code\n",
      "application_type\n",
      "acc_now_delinq\n",
      "chargeoff_within_12_mths\n",
      "delinq_amnt\n",
      "tax_liens\n"
     ]
    }
   ],
   "source": [
    "# check the name of single value column names\n",
    "for i in single_value_column:\n",
    "    print(i)"
   ]
  },
  {
   "cell_type": "code",
   "execution_count": 84,
   "id": "1525dcf0",
   "metadata": {
    "id": "1525dcf0"
   },
   "outputs": [],
   "source": [
    "# Removing the single value columns from dataframe\n",
    "\n",
    "loan_data_df.drop(single_value_column,axis=1,inplace=True)"
   ]
  },
  {
   "cell_type": "code",
   "execution_count": 85,
   "id": "49c04c58",
   "metadata": {
    "colab": {
     "base_uri": "https://localhost:8080/"
    },
    "id": "49c04c58",
    "outputId": "846164e4-a15c-44d7-8b91-aceedd2c445c"
   },
   "outputs": [
    {
     "data": {
      "text/plain": [
       "(39717, 48)"
      ]
     },
     "execution_count": 85,
     "metadata": {},
     "output_type": "execute_result"
    }
   ],
   "source": [
    "loan_data_df.shape"
   ]
  },
  {
   "cell_type": "code",
   "execution_count": 86,
   "id": "ee764ced",
   "metadata": {
    "id": "ee764ced"
   },
   "outputs": [],
   "source": [
    "#description = pd.read_excel('Data_Dictionary.xlsx').dropna()\n",
    "#description.style.set_properties(subset=['Description'], **{'width' :'850px'})"
   ]
  },
  {
   "cell_type": "markdown",
   "id": "13b26f6c",
   "metadata": {
    "id": "13b26f6c"
   },
   "source": [
    "## Removing irrelavant columns and columns which consist post approval data\n",
    "\n",
    "- Columns (id, member_id) will be dropped as they are index variables with unique values and do not contribute to the analysis.\n",
    "\n",
    "- Columns (emp_title, desc, title) will be dropped as they contain descriptive text (nouns) and do not contribute to the analysis.\n",
    "\n",
    "- The redundant column (url) will be dropped. Further analysis reveals that the URL is a static path with the loan ID appended as a query, making it redundant compared to the (id) column.\n",
    "\n",
    "- Customer behavior columns that represent data post the approval of loans will not be considered in the analysis and will be dropped.\n",
    "\n",
    "- These columns capture customer behavior recorded after loan approval and are not available at the time of loan approval. Thus, these variables will not be included in the analysis.\n",
    "\n",
    "- Columns to be dropped: (delinq_2yrs, earliest_cr_line, inq_last_6mths, open_acc, pub_rec, revol_bal, revol_util, total_acc, out_prncp, out_prncp_inv, total_pymnt, total_pymnt_inv, total_rec_prncp, total_rec_int, total_rec_late_fee, recoveries, collection_recovery_fee, last_pymnt_d, last_pymnt_amnt, last_credit_pull_d, application_type)"
   ]
  },
  {
   "cell_type": "code",
   "execution_count": 87,
   "id": "7213ebf5",
   "metadata": {
    "id": "7213ebf5"
   },
   "outputs": [],
   "source": [
    "# List the columns which are not required for the analysis.\n",
    "# These columns are like id, member_id, URL ,Total 27 columns\n",
    "drop_cols = [\n",
    " 'collection_recovery_fee',\n",
    " 'delinq_2yrs',\n",
    " 'desc',\n",
    " 'earliest_cr_line',\n",
    " 'emp_title',\n",
    " 'id',\n",
    " 'inq_last_6mths',\n",
    " 'last_credit_pull_d',\n",
    " 'last_pymnt_amnt',\n",
    " 'last_pymnt_d',\n",
    " 'member_id',\n",
    " 'open_acc',\n",
    " 'out_prncp',\n",
    " 'out_prncp_inv',\n",
    " 'pub_rec',\n",
    " 'recoveries',\n",
    " 'revol_bal',\n",
    " 'title',\n",
    " 'total_acc',\n",
    " 'total_pymnt',\n",
    " 'total_pymnt_inv',\n",
    " 'total_rec_int',\n",
    " 'total_rec_late_fee',\n",
    " 'total_rec_prncp',\n",
    " 'url',\n",
    " 'zip_code'\n",
    "]\n",
    "\n",
    "loan_data_df.drop(drop_cols, axis = 1, inplace = True)"
   ]
  },
  {
   "cell_type": "code",
   "execution_count": 88,
   "id": "fb2dddfd",
   "metadata": {
    "colab": {
     "base_uri": "https://localhost:8080/"
    },
    "id": "fb2dddfd",
    "outputId": "cd77ed5c-ad12-4249-de44-834e53490b02"
   },
   "outputs": [
    {
     "data": {
      "text/plain": [
       "(39717, 22)"
      ]
     },
     "execution_count": 88,
     "metadata": {},
     "output_type": "execute_result"
    }
   ],
   "source": [
    "loan_data_df.shape"
   ]
  },
  {
   "cell_type": "code",
   "execution_count": 89,
   "id": "8c0e81b4",
   "metadata": {
    "colab": {
     "base_uri": "https://localhost:8080/",
     "height": 210
    },
    "id": "8c0e81b4",
    "outputId": "6a72c29d-1cb2-490e-e8a6-d3aa038a290c"
   },
   "outputs": [
    {
     "data": {
      "text/plain": [
       "0.0    37339\n",
       "1.0     1674\n",
       "2.0        7\n",
       "Name: pub_rec_bankruptcies, dtype: int64"
      ]
     },
     "execution_count": 89,
     "metadata": {},
     "output_type": "execute_result"
    }
   ],
   "source": [
    "loan_data_df.pub_rec_bankruptcies.value_counts()"
   ]
  },
  {
   "cell_type": "code",
   "execution_count": 90,
   "id": "2d963e5a",
   "metadata": {
    "id": "2d963e5a"
   },
   "outputs": [],
   "source": [
    "# As we can see from above that in 'pub_rec_bankruptcies' have around 37339 entires as 0, it will be not much of a use.\n",
    "# Hence removing the colum\n",
    "\n",
    "loan_data_df.drop('pub_rec_bankruptcies', axis = 1, inplace = True)"
   ]
  },
  {
   "cell_type": "code",
   "execution_count": 91,
   "id": "4ab4a392",
   "metadata": {
    "colab": {
     "base_uri": "https://localhost:8080/"
    },
    "id": "4ab4a392",
    "outputId": "64511148-4924-4325-8bf5-40c3120a3432"
   },
   "outputs": [
    {
     "data": {
      "text/plain": [
       "(39717, 21)"
      ]
     },
     "execution_count": 91,
     "metadata": {},
     "output_type": "execute_result"
    }
   ],
   "source": [
    "loan_data_df.shape"
   ]
  },
  {
   "cell_type": "code",
   "execution_count": 92,
   "id": "68452dfa",
   "metadata": {
    "colab": {
     "base_uri": "https://localhost:8080/"
    },
    "id": "68452dfa",
    "outputId": "37c4cbfe-4ac3-4adb-b904-75cd84c690e9"
   },
   "outputs": [
    {
     "data": {
      "text/plain": [
       "(39717, 18)"
      ]
     },
     "execution_count": 92,
     "metadata": {},
     "output_type": "execute_result"
    }
   ],
   "source": [
    "# There are various columns where records are missing for more than 65%, this is not going to help our analysis rather it is better to remove them\n",
    "\n",
    "for col in loan_data_df.columns:\n",
    "    missing_values = round(loan_data_df[col].isna().sum() / loan_data_df.shape[0], 2)\n",
    "    if missing_values >= 0.65:\n",
    "        loan_data_df.drop(col, axis = 1, inplace = True)\n",
    "\n",
    "loan_data_df.shape\n",
    "\n"
   ]
  },
  {
   "cell_type": "code",
   "execution_count": 93,
   "id": "46c1ddc7",
   "metadata": {
    "colab": {
     "base_uri": "https://localhost:8080/"
    },
    "id": "46c1ddc7",
    "outputId": "755f22f2-36eb-485c-f65d-9ea9b9ed8031"
   },
   "outputs": [
    {
     "data": {
      "text/plain": [
       "array(['Fully Paid', 'Charged Off'], dtype=object)"
      ]
     },
     "execution_count": 93,
     "metadata": {},
     "output_type": "execute_result"
    }
   ],
   "source": [
    "# Dropping columns where loan status is current, as the loan in progress will not provide us any insight whether person will\n",
    "# default or not\n",
    "loan_data_df = loan_data_df[loan_data_df['loan_status'].str.lower() != \"current\"]\n",
    "loan_data_df.loan_status.unique()"
   ]
  },
  {
   "cell_type": "code",
   "execution_count": 94,
   "id": "5b901d68",
   "metadata": {
    "colab": {
     "base_uri": "https://localhost:8080/"
    },
    "id": "5b901d68",
    "outputId": "5ffb3b9b-52a3-4290-88d1-4625ddf6f215"
   },
   "outputs": [
    {
     "data": {
      "text/plain": [
       "Index(['loan_amnt', 'funded_amnt', 'funded_amnt_inv', 'term', 'int_rate',\n",
       "       'installment', 'grade', 'sub_grade', 'emp_length', 'home_ownership',\n",
       "       'annual_inc', 'verification_status', 'issue_d', 'loan_status',\n",
       "       'purpose', 'addr_state', 'dti', 'revol_util'],\n",
       "      dtype='object')"
      ]
     },
     "execution_count": 94,
     "metadata": {},
     "output_type": "execute_result"
    }
   ],
   "source": [
    "loan_data_df.columns"
   ]
  },
  {
   "cell_type": "code",
   "execution_count": 95,
   "id": "6c4a9ed9",
   "metadata": {
    "colab": {
     "base_uri": "https://localhost:8080/",
     "height": 313
    },
    "id": "6c4a9ed9",
    "outputId": "45494130-100c-4584-a557-543831a841fb"
   },
   "outputs": [
    {
     "data": {
      "text/html": [
       "<div>\n",
       "<style scoped>\n",
       "    .dataframe tbody tr th:only-of-type {\n",
       "        vertical-align: middle;\n",
       "    }\n",
       "\n",
       "    .dataframe tbody tr th {\n",
       "        vertical-align: top;\n",
       "    }\n",
       "\n",
       "    .dataframe thead th {\n",
       "        text-align: right;\n",
       "    }\n",
       "</style>\n",
       "<table border=\"1\" class=\"dataframe\">\n",
       "  <thead>\n",
       "    <tr style=\"text-align: right;\">\n",
       "      <th></th>\n",
       "      <th>addr_state</th>\n",
       "      <th>annual_inc</th>\n",
       "      <th>dti</th>\n",
       "      <th>emp_length</th>\n",
       "      <th>funded_amnt</th>\n",
       "      <th>funded_amnt_inv</th>\n",
       "      <th>grade</th>\n",
       "      <th>home_ownership</th>\n",
       "      <th>installment</th>\n",
       "      <th>int_rate</th>\n",
       "      <th>issue_d</th>\n",
       "      <th>loan_amnt</th>\n",
       "      <th>loan_status</th>\n",
       "      <th>purpose</th>\n",
       "      <th>revol_util</th>\n",
       "      <th>sub_grade</th>\n",
       "      <th>term</th>\n",
       "      <th>verification_status</th>\n",
       "    </tr>\n",
       "  </thead>\n",
       "  <tbody>\n",
       "    <tr>\n",
       "      <th>0</th>\n",
       "      <td>AZ</td>\n",
       "      <td>24000.0</td>\n",
       "      <td>27.65</td>\n",
       "      <td>10+ years</td>\n",
       "      <td>5000</td>\n",
       "      <td>4975.0</td>\n",
       "      <td>B</td>\n",
       "      <td>RENT</td>\n",
       "      <td>162.87</td>\n",
       "      <td>10.65%</td>\n",
       "      <td>Dec-11</td>\n",
       "      <td>5000</td>\n",
       "      <td>Fully Paid</td>\n",
       "      <td>credit_card</td>\n",
       "      <td>83.70%</td>\n",
       "      <td>B2</td>\n",
       "      <td>36 months</td>\n",
       "      <td>Verified</td>\n",
       "    </tr>\n",
       "    <tr>\n",
       "      <th>1</th>\n",
       "      <td>GA</td>\n",
       "      <td>30000.0</td>\n",
       "      <td>1.00</td>\n",
       "      <td>&lt; 1 year</td>\n",
       "      <td>2500</td>\n",
       "      <td>2500.0</td>\n",
       "      <td>C</td>\n",
       "      <td>RENT</td>\n",
       "      <td>59.83</td>\n",
       "      <td>15.27%</td>\n",
       "      <td>Dec-11</td>\n",
       "      <td>2500</td>\n",
       "      <td>Charged Off</td>\n",
       "      <td>car</td>\n",
       "      <td>9.40%</td>\n",
       "      <td>C4</td>\n",
       "      <td>60 months</td>\n",
       "      <td>Source Verified</td>\n",
       "    </tr>\n",
       "    <tr>\n",
       "      <th>2</th>\n",
       "      <td>IL</td>\n",
       "      <td>12252.0</td>\n",
       "      <td>8.72</td>\n",
       "      <td>10+ years</td>\n",
       "      <td>2400</td>\n",
       "      <td>2400.0</td>\n",
       "      <td>C</td>\n",
       "      <td>RENT</td>\n",
       "      <td>84.33</td>\n",
       "      <td>15.96%</td>\n",
       "      <td>Dec-11</td>\n",
       "      <td>2400</td>\n",
       "      <td>Fully Paid</td>\n",
       "      <td>small_business</td>\n",
       "      <td>98.50%</td>\n",
       "      <td>C5</td>\n",
       "      <td>36 months</td>\n",
       "      <td>Not Verified</td>\n",
       "    </tr>\n",
       "    <tr>\n",
       "      <th>3</th>\n",
       "      <td>CA</td>\n",
       "      <td>49200.0</td>\n",
       "      <td>20.00</td>\n",
       "      <td>10+ years</td>\n",
       "      <td>10000</td>\n",
       "      <td>10000.0</td>\n",
       "      <td>C</td>\n",
       "      <td>RENT</td>\n",
       "      <td>339.31</td>\n",
       "      <td>13.49%</td>\n",
       "      <td>Dec-11</td>\n",
       "      <td>10000</td>\n",
       "      <td>Fully Paid</td>\n",
       "      <td>other</td>\n",
       "      <td>21%</td>\n",
       "      <td>C1</td>\n",
       "      <td>36 months</td>\n",
       "      <td>Source Verified</td>\n",
       "    </tr>\n",
       "    <tr>\n",
       "      <th>5</th>\n",
       "      <td>AZ</td>\n",
       "      <td>36000.0</td>\n",
       "      <td>11.20</td>\n",
       "      <td>3 years</td>\n",
       "      <td>5000</td>\n",
       "      <td>5000.0</td>\n",
       "      <td>A</td>\n",
       "      <td>RENT</td>\n",
       "      <td>156.46</td>\n",
       "      <td>7.90%</td>\n",
       "      <td>Dec-11</td>\n",
       "      <td>5000</td>\n",
       "      <td>Fully Paid</td>\n",
       "      <td>wedding</td>\n",
       "      <td>28.30%</td>\n",
       "      <td>A4</td>\n",
       "      <td>36 months</td>\n",
       "      <td>Source Verified</td>\n",
       "    </tr>\n",
       "  </tbody>\n",
       "</table>\n",
       "</div>"
      ],
      "text/plain": [
       "  addr_state  annual_inc    dti emp_length  funded_amnt  funded_amnt_inv  \\\n",
       "0         AZ     24000.0  27.65  10+ years         5000           4975.0   \n",
       "1         GA     30000.0   1.00   < 1 year         2500           2500.0   \n",
       "2         IL     12252.0   8.72  10+ years         2400           2400.0   \n",
       "3         CA     49200.0  20.00  10+ years        10000          10000.0   \n",
       "5         AZ     36000.0  11.20    3 years         5000           5000.0   \n",
       "\n",
       "  grade home_ownership  installment int_rate issue_d  loan_amnt  loan_status  \\\n",
       "0     B           RENT       162.87   10.65%  Dec-11       5000   Fully Paid   \n",
       "1     C           RENT        59.83   15.27%  Dec-11       2500  Charged Off   \n",
       "2     C           RENT        84.33   15.96%  Dec-11       2400   Fully Paid   \n",
       "3     C           RENT       339.31   13.49%  Dec-11      10000   Fully Paid   \n",
       "5     A           RENT       156.46    7.90%  Dec-11       5000   Fully Paid   \n",
       "\n",
       "          purpose revol_util sub_grade        term verification_status  \n",
       "0     credit_card     83.70%        B2   36 months            Verified  \n",
       "1             car      9.40%        C4   60 months     Source Verified  \n",
       "2  small_business     98.50%        C5   36 months        Not Verified  \n",
       "3           other        21%        C1   36 months     Source Verified  \n",
       "5         wedding     28.30%        A4   36 months     Source Verified  "
      ]
     },
     "execution_count": 95,
     "metadata": {},
     "output_type": "execute_result"
    }
   ],
   "source": [
    "#Sorting the dataframe columns in ascending order to address all columns alphabetically\n",
    "loan_data_df = loan_data_df.reindex(sorted(loan_data_df.columns), axis=1)\n",
    "loan_data_df.head()"
   ]
  },
  {
   "cell_type": "code",
   "execution_count": 96,
   "id": "4b74a744",
   "metadata": {
    "colab": {
     "base_uri": "https://localhost:8080/"
    },
    "id": "4b74a744",
    "outputId": "800641fa-cce4-441e-860c-1ed9ffa74e7b"
   },
   "outputs": [
    {
     "name": "stdout",
     "output_type": "stream",
     "text": [
      "<class 'pandas.core.frame.DataFrame'>\n",
      "Int64Index: 38577 entries, 0 to 39716\n",
      "Data columns (total 18 columns):\n",
      " #   Column               Non-Null Count  Dtype  \n",
      "---  ------               --------------  -----  \n",
      " 0   addr_state           38577 non-null  object \n",
      " 1   annual_inc           38577 non-null  float64\n",
      " 2   dti                  38577 non-null  float64\n",
      " 3   emp_length           37544 non-null  object \n",
      " 4   funded_amnt          38577 non-null  int64  \n",
      " 5   funded_amnt_inv      38577 non-null  float64\n",
      " 6   grade                38577 non-null  object \n",
      " 7   home_ownership       38577 non-null  object \n",
      " 8   installment          38577 non-null  float64\n",
      " 9   int_rate             38577 non-null  object \n",
      " 10  issue_d              38577 non-null  object \n",
      " 11  loan_amnt            38577 non-null  int64  \n",
      " 12  loan_status          38577 non-null  object \n",
      " 13  purpose              38577 non-null  object \n",
      " 14  revol_util           38527 non-null  object \n",
      " 15  sub_grade            38577 non-null  object \n",
      " 16  term                 38577 non-null  object \n",
      " 17  verification_status  38577 non-null  object \n",
      "dtypes: float64(4), int64(2), object(12)\n",
      "memory usage: 5.6+ MB\n"
     ]
    }
   ],
   "source": [
    "loan_data_df.info()"
   ]
  },
  {
   "cell_type": "code",
   "execution_count": 97,
   "id": "cd47da7f",
   "metadata": {
    "colab": {
     "base_uri": "https://localhost:8080/",
     "height": 460
    },
    "id": "cd47da7f",
    "outputId": "04450394-9ee5-4476-ae78-7422746a3033"
   },
   "outputs": [
    {
     "data": {
      "text/plain": [
       "10+ years    8488\n",
       "< 1 year     4508\n",
       "2 years      4291\n",
       "3 years      4012\n",
       "4 years      3342\n",
       "5 years      3194\n",
       "1 year       3169\n",
       "6 years      2168\n",
       "7 years      1711\n",
       "8 years      1435\n",
       "9 years      1226\n",
       "Name: emp_length, dtype: int64"
      ]
     },
     "execution_count": 97,
     "metadata": {},
     "output_type": "execute_result"
    }
   ],
   "source": [
    "# we can see there are some null values in emp_length\n",
    "loan_data_df.emp_length.value_counts()"
   ]
  },
  {
   "cell_type": "code",
   "execution_count": 98,
   "id": "6232e64f",
   "metadata": {
    "colab": {
     "base_uri": "https://localhost:8080/",
     "height": 35
    },
    "id": "6232e64f",
    "outputId": "07b22f83-bdcc-4d30-f4d9-6b86842df2c8"
   },
   "outputs": [
    {
     "data": {
      "text/plain": [
       "'10+ years'"
      ]
     },
     "execution_count": 98,
     "metadata": {},
     "output_type": "execute_result"
    }
   ],
   "source": [
    "# Mode of emp_length\n",
    "loan_data_df.emp_length.mode()[0]"
   ]
  },
  {
   "cell_type": "code",
   "execution_count": 99,
   "id": "4e5b26fe",
   "metadata": {
    "id": "4e5b26fe"
   },
   "outputs": [],
   "source": [
    "# As we can see mode is 10+ years and it is almost twice the occurence of second most frequent value.\n",
    "#hence we can assign this value to null values in emp_length\n",
    "# the missing values are also very low in number imputing it, won't cause any biasis\n",
    "\n",
    "loan_data_df.emp_length.fillna(loan_data_df.emp_length.mode()[0], inplace = True)"
   ]
  },
  {
   "cell_type": "code",
   "execution_count": 100,
   "id": "6e16249f",
   "metadata": {
    "colab": {
     "base_uri": "https://localhost:8080/"
    },
    "id": "6e16249f",
    "outputId": "5e3dd222-4f9b-41ef-92ee-744b9171705c"
   },
   "outputs": [
    {
     "data": {
      "text/plain": [
       "0"
      ]
     },
     "execution_count": 100,
     "metadata": {},
     "output_type": "execute_result"
    }
   ],
   "source": [
    "loan_data_df.emp_length.isna().sum()"
   ]
  },
  {
   "cell_type": "code",
   "execution_count": 101,
   "id": "bd4664e6",
   "metadata": {
    "colab": {
     "base_uri": "https://localhost:8080/",
     "height": 313
    },
    "id": "bd4664e6",
    "outputId": "caf8a32e-cbdb-48e8-deca-b46054647252"
   },
   "outputs": [
    {
     "data": {
      "text/html": [
       "<div>\n",
       "<style scoped>\n",
       "    .dataframe tbody tr th:only-of-type {\n",
       "        vertical-align: middle;\n",
       "    }\n",
       "\n",
       "    .dataframe tbody tr th {\n",
       "        vertical-align: top;\n",
       "    }\n",
       "\n",
       "    .dataframe thead th {\n",
       "        text-align: right;\n",
       "    }\n",
       "</style>\n",
       "<table border=\"1\" class=\"dataframe\">\n",
       "  <thead>\n",
       "    <tr style=\"text-align: right;\">\n",
       "      <th></th>\n",
       "      <th>addr_state</th>\n",
       "      <th>annual_inc</th>\n",
       "      <th>dti</th>\n",
       "      <th>emp_length</th>\n",
       "      <th>funded_amnt</th>\n",
       "      <th>funded_amnt_inv</th>\n",
       "      <th>grade</th>\n",
       "      <th>home_ownership</th>\n",
       "      <th>installment</th>\n",
       "      <th>int_rate</th>\n",
       "      <th>issue_d</th>\n",
       "      <th>loan_amnt</th>\n",
       "      <th>loan_status</th>\n",
       "      <th>purpose</th>\n",
       "      <th>revol_util</th>\n",
       "      <th>sub_grade</th>\n",
       "      <th>term</th>\n",
       "      <th>verification_status</th>\n",
       "    </tr>\n",
       "  </thead>\n",
       "  <tbody>\n",
       "    <tr>\n",
       "      <th>0</th>\n",
       "      <td>AZ</td>\n",
       "      <td>24000.0</td>\n",
       "      <td>27.65</td>\n",
       "      <td>10+ years</td>\n",
       "      <td>5000</td>\n",
       "      <td>4975.0</td>\n",
       "      <td>B</td>\n",
       "      <td>RENT</td>\n",
       "      <td>162.87</td>\n",
       "      <td>10.65%</td>\n",
       "      <td>Dec-11</td>\n",
       "      <td>5000</td>\n",
       "      <td>Fully Paid</td>\n",
       "      <td>credit_card</td>\n",
       "      <td>83.70%</td>\n",
       "      <td>B2</td>\n",
       "      <td>36 months</td>\n",
       "      <td>Verified</td>\n",
       "    </tr>\n",
       "    <tr>\n",
       "      <th>1</th>\n",
       "      <td>GA</td>\n",
       "      <td>30000.0</td>\n",
       "      <td>1.00</td>\n",
       "      <td>&lt; 1 year</td>\n",
       "      <td>2500</td>\n",
       "      <td>2500.0</td>\n",
       "      <td>C</td>\n",
       "      <td>RENT</td>\n",
       "      <td>59.83</td>\n",
       "      <td>15.27%</td>\n",
       "      <td>Dec-11</td>\n",
       "      <td>2500</td>\n",
       "      <td>Charged Off</td>\n",
       "      <td>car</td>\n",
       "      <td>9.40%</td>\n",
       "      <td>C4</td>\n",
       "      <td>60 months</td>\n",
       "      <td>Source Verified</td>\n",
       "    </tr>\n",
       "    <tr>\n",
       "      <th>2</th>\n",
       "      <td>IL</td>\n",
       "      <td>12252.0</td>\n",
       "      <td>8.72</td>\n",
       "      <td>10+ years</td>\n",
       "      <td>2400</td>\n",
       "      <td>2400.0</td>\n",
       "      <td>C</td>\n",
       "      <td>RENT</td>\n",
       "      <td>84.33</td>\n",
       "      <td>15.96%</td>\n",
       "      <td>Dec-11</td>\n",
       "      <td>2400</td>\n",
       "      <td>Fully Paid</td>\n",
       "      <td>small_business</td>\n",
       "      <td>98.50%</td>\n",
       "      <td>C5</td>\n",
       "      <td>36 months</td>\n",
       "      <td>Not Verified</td>\n",
       "    </tr>\n",
       "    <tr>\n",
       "      <th>3</th>\n",
       "      <td>CA</td>\n",
       "      <td>49200.0</td>\n",
       "      <td>20.00</td>\n",
       "      <td>10+ years</td>\n",
       "      <td>10000</td>\n",
       "      <td>10000.0</td>\n",
       "      <td>C</td>\n",
       "      <td>RENT</td>\n",
       "      <td>339.31</td>\n",
       "      <td>13.49%</td>\n",
       "      <td>Dec-11</td>\n",
       "      <td>10000</td>\n",
       "      <td>Fully Paid</td>\n",
       "      <td>other</td>\n",
       "      <td>21%</td>\n",
       "      <td>C1</td>\n",
       "      <td>36 months</td>\n",
       "      <td>Source Verified</td>\n",
       "    </tr>\n",
       "    <tr>\n",
       "      <th>5</th>\n",
       "      <td>AZ</td>\n",
       "      <td>36000.0</td>\n",
       "      <td>11.20</td>\n",
       "      <td>3 years</td>\n",
       "      <td>5000</td>\n",
       "      <td>5000.0</td>\n",
       "      <td>A</td>\n",
       "      <td>RENT</td>\n",
       "      <td>156.46</td>\n",
       "      <td>7.90%</td>\n",
       "      <td>Dec-11</td>\n",
       "      <td>5000</td>\n",
       "      <td>Fully Paid</td>\n",
       "      <td>wedding</td>\n",
       "      <td>28.30%</td>\n",
       "      <td>A4</td>\n",
       "      <td>36 months</td>\n",
       "      <td>Source Verified</td>\n",
       "    </tr>\n",
       "  </tbody>\n",
       "</table>\n",
       "</div>"
      ],
      "text/plain": [
       "  addr_state  annual_inc    dti emp_length  funded_amnt  funded_amnt_inv  \\\n",
       "0         AZ     24000.0  27.65  10+ years         5000           4975.0   \n",
       "1         GA     30000.0   1.00   < 1 year         2500           2500.0   \n",
       "2         IL     12252.0   8.72  10+ years         2400           2400.0   \n",
       "3         CA     49200.0  20.00  10+ years        10000          10000.0   \n",
       "5         AZ     36000.0  11.20    3 years         5000           5000.0   \n",
       "\n",
       "  grade home_ownership  installment int_rate issue_d  loan_amnt  loan_status  \\\n",
       "0     B           RENT       162.87   10.65%  Dec-11       5000   Fully Paid   \n",
       "1     C           RENT        59.83   15.27%  Dec-11       2500  Charged Off   \n",
       "2     C           RENT        84.33   15.96%  Dec-11       2400   Fully Paid   \n",
       "3     C           RENT       339.31   13.49%  Dec-11      10000   Fully Paid   \n",
       "5     A           RENT       156.46    7.90%  Dec-11       5000   Fully Paid   \n",
       "\n",
       "          purpose revol_util sub_grade        term verification_status  \n",
       "0     credit_card     83.70%        B2   36 months            Verified  \n",
       "1             car      9.40%        C4   60 months     Source Verified  \n",
       "2  small_business     98.50%        C5   36 months        Not Verified  \n",
       "3           other        21%        C1   36 months     Source Verified  \n",
       "5         wedding     28.30%        A4   36 months     Source Verified  "
      ]
     },
     "execution_count": 101,
     "metadata": {},
     "output_type": "execute_result"
    }
   ],
   "source": [
    "loan_data_df.head()"
   ]
  },
  {
   "cell_type": "code",
   "execution_count": 102,
   "id": "f0ab5fcb",
   "metadata": {
    "colab": {
     "base_uri": "https://localhost:8080/"
    },
    "id": "f0ab5fcb",
    "outputId": "ec351674-32fa-4219-bb28-c5d048b9e9e4"
   },
   "outputs": [
    {
     "name": "stdout",
     "output_type": "stream",
     "text": [
      "<class 'pandas.core.frame.DataFrame'>\n",
      "Int64Index: 38577 entries, 0 to 39716\n",
      "Data columns (total 18 columns):\n",
      " #   Column               Non-Null Count  Dtype  \n",
      "---  ------               --------------  -----  \n",
      " 0   addr_state           38577 non-null  object \n",
      " 1   annual_inc           38577 non-null  float64\n",
      " 2   dti                  38577 non-null  float64\n",
      " 3   emp_length           38577 non-null  object \n",
      " 4   funded_amnt          38577 non-null  int64  \n",
      " 5   funded_amnt_inv      38577 non-null  float64\n",
      " 6   grade                38577 non-null  object \n",
      " 7   home_ownership       38577 non-null  object \n",
      " 8   installment          38577 non-null  float64\n",
      " 9   int_rate             38577 non-null  object \n",
      " 10  issue_d              38577 non-null  object \n",
      " 11  loan_amnt            38577 non-null  int64  \n",
      " 12  loan_status          38577 non-null  object \n",
      " 13  purpose              38577 non-null  object \n",
      " 14  revol_util           38527 non-null  object \n",
      " 15  sub_grade            38577 non-null  object \n",
      " 16  term                 38577 non-null  object \n",
      " 17  verification_status  38577 non-null  object \n",
      "dtypes: float64(4), int64(2), object(12)\n",
      "memory usage: 5.6+ MB\n"
     ]
    }
   ],
   "source": [
    "loan_data_df.info()"
   ]
  },
  {
   "cell_type": "code",
   "execution_count": 103,
   "id": "52679612",
   "metadata": {
    "id": "52679612"
   },
   "outputs": [],
   "source": [
    " # Coverting emp_length to numeric as we can do some analysis\n",
    " # In \"emp_length\" --> { (< 1 year) is assumed as 0 and 10+ years is assumed as 10 }\n",
    "loan_data_df.emp_length = pd.to_numeric(loan_data_df.emp_length.apply(lambda x: 0 if \"<\" in x else (x.split('+')[0] if \"+\" in x else x.split()[0])))"
   ]
  },
  {
   "cell_type": "code",
   "execution_count": 104,
   "id": "1bb170ed",
   "metadata": {
    "colab": {
     "base_uri": "https://localhost:8080/",
     "height": 458
    },
    "id": "1bb170ed",
    "outputId": "f5577e78-589d-4e0c-ee7b-ecd41fae2cb1"
   },
   "outputs": [
    {
     "data": {
      "text/plain": [
       "0        10\n",
       "1         0\n",
       "2        10\n",
       "3        10\n",
       "5         3\n",
       "         ..\n",
       "39712     4\n",
       "39713     3\n",
       "39714     0\n",
       "39715     0\n",
       "39716     0\n",
       "Name: emp_length, Length: 38577, dtype: int64"
      ]
     },
     "execution_count": 104,
     "metadata": {},
     "output_type": "execute_result"
    }
   ],
   "source": [
    "loan_data_df.emp_length"
   ]
  },
  {
   "cell_type": "code",
   "execution_count": 105,
   "id": "3bf8bce1",
   "metadata": {
    "colab": {
     "base_uri": "https://localhost:8080/",
     "height": 617
    },
    "id": "3bf8bce1",
    "outputId": "c3c507e1-495b-4a1b-c65b-70a49bbf1995"
   },
   "outputs": [
    {
     "data": {
      "text/plain": [
       "addr_state              object\n",
       "annual_inc             float64\n",
       "dti                    float64\n",
       "emp_length               int64\n",
       "funded_amnt              int64\n",
       "funded_amnt_inv        float64\n",
       "grade                   object\n",
       "home_ownership          object\n",
       "installment            float64\n",
       "int_rate                object\n",
       "issue_d                 object\n",
       "loan_amnt                int64\n",
       "loan_status             object\n",
       "purpose                 object\n",
       "revol_util              object\n",
       "sub_grade               object\n",
       "term                    object\n",
       "verification_status     object\n",
       "dtype: object"
      ]
     },
     "execution_count": 105,
     "metadata": {},
     "output_type": "execute_result"
    }
   ],
   "source": [
    "loan_data_df.dtypes"
   ]
  },
  {
   "cell_type": "code",
   "execution_count": 106,
   "id": "c49abe29",
   "metadata": {
    "colab": {
     "base_uri": "https://localhost:8080/",
     "height": 241
    },
    "id": "c49abe29",
    "outputId": "084562b8-3923-47de-debf-57f75e93c950"
   },
   "outputs": [
    {
     "data": {
      "text/plain": [
       "0    Dec-11\n",
       "1    Dec-11\n",
       "2    Dec-11\n",
       "3    Dec-11\n",
       "5    Dec-11\n",
       "Name: issue_d, dtype: object"
      ]
     },
     "execution_count": 106,
     "metadata": {},
     "output_type": "execute_result"
    }
   ],
   "source": [
    "loan_data_df.issue_d.head()"
   ]
  },
  {
   "cell_type": "code",
   "execution_count": 107,
   "id": "eb262908",
   "metadata": {
    "id": "eb262908"
   },
   "outputs": [],
   "source": [
    "## Converting the column issue_d from string to DateTime\n",
    "loan_data_df['issue_d'] = pd.to_datetime(loan_data_df['issue_d'], format = '%b-%y')"
   ]
  },
  {
   "cell_type": "code",
   "execution_count": 108,
   "id": "290ebd17",
   "metadata": {
    "colab": {
     "base_uri": "https://localhost:8080/",
     "height": 241
    },
    "id": "290ebd17",
    "outputId": "d87bb9df-cdc7-490e-cd80-fcf35c2d4443"
   },
   "outputs": [
    {
     "data": {
      "text/plain": [
       "0   2011-12-01\n",
       "1   2011-12-01\n",
       "2   2011-12-01\n",
       "3   2011-12-01\n",
       "5   2011-12-01\n",
       "Name: issue_d, dtype: datetime64[ns]"
      ]
     },
     "execution_count": 108,
     "metadata": {},
     "output_type": "execute_result"
    }
   ],
   "source": [
    "loan_data_df.issue_d.head()"
   ]
  },
  {
   "cell_type": "code",
   "execution_count": 109,
   "id": "9ea4296e",
   "metadata": {},
   "outputs": [
    {
     "data": {
      "text/plain": [
       "addr_state                     object\n",
       "annual_inc                    float64\n",
       "dti                           float64\n",
       "emp_length                      int64\n",
       "funded_amnt                     int64\n",
       "funded_amnt_inv               float64\n",
       "grade                          object\n",
       "home_ownership                 object\n",
       "installment                   float64\n",
       "int_rate                       object\n",
       "issue_d                datetime64[ns]\n",
       "loan_amnt                       int64\n",
       "loan_status                    object\n",
       "purpose                        object\n",
       "revol_util                     object\n",
       "sub_grade                      object\n",
       "term                           object\n",
       "verification_status            object\n",
       "dtype: object"
      ]
     },
     "execution_count": 109,
     "metadata": {},
     "output_type": "execute_result"
    }
   ],
   "source": [
    "loan_data_df.dtypes"
   ]
  },
  {
   "cell_type": "code",
   "execution_count": 110,
   "id": "7b5b320d",
   "metadata": {},
   "outputs": [],
   "source": [
    "loan_data_df.int_rate = pd.to_numeric(loan_data_df.int_rate.apply(lambda x : x.split('%')[0]))"
   ]
  },
  {
   "cell_type": "code",
   "execution_count": 111,
   "id": "a3deb5c2",
   "metadata": {},
   "outputs": [
    {
     "data": {
      "text/plain": [
       "0        83.70%\n",
       "1         9.40%\n",
       "2        98.50%\n",
       "3           21%\n",
       "5        28.30%\n",
       "          ...  \n",
       "39712    13.10%\n",
       "39713    26.90%\n",
       "39714    19.40%\n",
       "39715     0.70%\n",
       "39716    51.50%\n",
       "Name: revol_util, Length: 38577, dtype: object"
      ]
     },
     "execution_count": 111,
     "metadata": {},
     "output_type": "execute_result"
    }
   ],
   "source": [
    "loan_data_df.revol_util"
   ]
  },
  {
   "cell_type": "code",
   "execution_count": 112,
   "id": "2ce97270",
   "metadata": {},
   "outputs": [],
   "source": [
    "loan_data_df.revol_util = loan_data_df.revol_util.str.rstrip('%').astype('float')"
   ]
  },
  {
   "cell_type": "code",
   "execution_count": 113,
   "id": "36f398d9",
   "metadata": {},
   "outputs": [
    {
     "data": {
      "text/plain": [
       "addr_state                     object\n",
       "annual_inc                    float64\n",
       "dti                           float64\n",
       "emp_length                      int64\n",
       "funded_amnt                     int64\n",
       "funded_amnt_inv               float64\n",
       "grade                          object\n",
       "home_ownership                 object\n",
       "installment                   float64\n",
       "int_rate                      float64\n",
       "issue_d                datetime64[ns]\n",
       "loan_amnt                       int64\n",
       "loan_status                    object\n",
       "purpose                        object\n",
       "revol_util                    float64\n",
       "sub_grade                      object\n",
       "term                           object\n",
       "verification_status            object\n",
       "dtype: object"
      ]
     },
     "execution_count": 113,
     "metadata": {},
     "output_type": "execute_result"
    }
   ],
   "source": [
    "loan_data_df.dtypes"
   ]
  },
  {
   "cell_type": "markdown",
   "id": "c8e81cf8",
   "metadata": {
    "id": "c8e81cf8"
   },
   "source": [
    "-  Our main usecase if that we need to analyse the customer who have defaulted, hence it is best to dropped customer who have fully paid from data."
   ]
  },
  {
   "cell_type": "code",
   "execution_count": 114,
   "id": "237e4228",
   "metadata": {
    "id": "237e4228"
   },
   "outputs": [],
   "source": [
    "# Our main usecase if that we need to analyse the customer who have defaulted, hence it is best to dropped customer who have fully paid from data.\n",
    "loan_data_df = loan_data_df[loan_data_df['loan_status'].str.lower() != \"fully paid\"]\n"
   ]
  },
  {
   "cell_type": "code",
   "execution_count": 115,
   "id": "de429c06",
   "metadata": {
    "colab": {
     "base_uri": "https://localhost:8080/"
    },
    "id": "de429c06",
    "outputId": "5f9fcfe6-be58-4c42-fc84-eae3469070ee"
   },
   "outputs": [
    {
     "data": {
      "text/plain": [
       "array(['Charged Off'], dtype=object)"
      ]
     },
     "execution_count": 115,
     "metadata": {},
     "output_type": "execute_result"
    }
   ],
   "source": [
    "loan_data_df.loan_status.unique()"
   ]
  },
  {
   "cell_type": "code",
   "execution_count": 116,
   "id": "69453c49",
   "metadata": {
    "colab": {
     "base_uri": "https://localhost:8080/",
     "height": 313
    },
    "id": "69453c49",
    "outputId": "f28840a4-e176-4a28-93ea-70536f11beac"
   },
   "outputs": [
    {
     "data": {
      "text/html": [
       "<div>\n",
       "<style scoped>\n",
       "    .dataframe tbody tr th:only-of-type {\n",
       "        vertical-align: middle;\n",
       "    }\n",
       "\n",
       "    .dataframe tbody tr th {\n",
       "        vertical-align: top;\n",
       "    }\n",
       "\n",
       "    .dataframe thead th {\n",
       "        text-align: right;\n",
       "    }\n",
       "</style>\n",
       "<table border=\"1\" class=\"dataframe\">\n",
       "  <thead>\n",
       "    <tr style=\"text-align: right;\">\n",
       "      <th></th>\n",
       "      <th>addr_state</th>\n",
       "      <th>annual_inc</th>\n",
       "      <th>dti</th>\n",
       "      <th>emp_length</th>\n",
       "      <th>funded_amnt</th>\n",
       "      <th>funded_amnt_inv</th>\n",
       "      <th>grade</th>\n",
       "      <th>home_ownership</th>\n",
       "      <th>installment</th>\n",
       "      <th>int_rate</th>\n",
       "      <th>issue_d</th>\n",
       "      <th>loan_amnt</th>\n",
       "      <th>loan_status</th>\n",
       "      <th>purpose</th>\n",
       "      <th>revol_util</th>\n",
       "      <th>sub_grade</th>\n",
       "      <th>term</th>\n",
       "      <th>verification_status</th>\n",
       "    </tr>\n",
       "  </thead>\n",
       "  <tbody>\n",
       "    <tr>\n",
       "      <th>1</th>\n",
       "      <td>GA</td>\n",
       "      <td>30000.0</td>\n",
       "      <td>1.00</td>\n",
       "      <td>0</td>\n",
       "      <td>2500</td>\n",
       "      <td>2500.0</td>\n",
       "      <td>C</td>\n",
       "      <td>RENT</td>\n",
       "      <td>59.83</td>\n",
       "      <td>15.27</td>\n",
       "      <td>2011-12-01</td>\n",
       "      <td>2500</td>\n",
       "      <td>Charged Off</td>\n",
       "      <td>car</td>\n",
       "      <td>9.4</td>\n",
       "      <td>C4</td>\n",
       "      <td>60 months</td>\n",
       "      <td>Source Verified</td>\n",
       "    </tr>\n",
       "    <tr>\n",
       "      <th>8</th>\n",
       "      <td>CA</td>\n",
       "      <td>40000.0</td>\n",
       "      <td>5.55</td>\n",
       "      <td>4</td>\n",
       "      <td>5600</td>\n",
       "      <td>5600.0</td>\n",
       "      <td>F</td>\n",
       "      <td>OWN</td>\n",
       "      <td>152.39</td>\n",
       "      <td>21.28</td>\n",
       "      <td>2011-12-01</td>\n",
       "      <td>5600</td>\n",
       "      <td>Charged Off</td>\n",
       "      <td>small_business</td>\n",
       "      <td>32.6</td>\n",
       "      <td>F2</td>\n",
       "      <td>60 months</td>\n",
       "      <td>Source Verified</td>\n",
       "    </tr>\n",
       "    <tr>\n",
       "      <th>9</th>\n",
       "      <td>TX</td>\n",
       "      <td>15000.0</td>\n",
       "      <td>18.08</td>\n",
       "      <td>0</td>\n",
       "      <td>5375</td>\n",
       "      <td>5350.0</td>\n",
       "      <td>B</td>\n",
       "      <td>RENT</td>\n",
       "      <td>121.45</td>\n",
       "      <td>12.69</td>\n",
       "      <td>2011-12-01</td>\n",
       "      <td>5375</td>\n",
       "      <td>Charged Off</td>\n",
       "      <td>other</td>\n",
       "      <td>36.5</td>\n",
       "      <td>B5</td>\n",
       "      <td>60 months</td>\n",
       "      <td>Verified</td>\n",
       "    </tr>\n",
       "    <tr>\n",
       "      <th>12</th>\n",
       "      <td>VA</td>\n",
       "      <td>30000.0</td>\n",
       "      <td>10.08</td>\n",
       "      <td>0</td>\n",
       "      <td>9000</td>\n",
       "      <td>9000.0</td>\n",
       "      <td>C</td>\n",
       "      <td>RENT</td>\n",
       "      <td>305.38</td>\n",
       "      <td>13.49</td>\n",
       "      <td>2011-12-01</td>\n",
       "      <td>9000</td>\n",
       "      <td>Charged Off</td>\n",
       "      <td>debt_consolidation</td>\n",
       "      <td>91.7</td>\n",
       "      <td>C1</td>\n",
       "      <td>36 months</td>\n",
       "      <td>Source Verified</td>\n",
       "    </tr>\n",
       "    <tr>\n",
       "      <th>14</th>\n",
       "      <td>CA</td>\n",
       "      <td>100000.0</td>\n",
       "      <td>7.06</td>\n",
       "      <td>3</td>\n",
       "      <td>10000</td>\n",
       "      <td>10000.0</td>\n",
       "      <td>B</td>\n",
       "      <td>RENT</td>\n",
       "      <td>325.74</td>\n",
       "      <td>10.65</td>\n",
       "      <td>2011-12-01</td>\n",
       "      <td>10000</td>\n",
       "      <td>Charged Off</td>\n",
       "      <td>other</td>\n",
       "      <td>55.5</td>\n",
       "      <td>B2</td>\n",
       "      <td>36 months</td>\n",
       "      <td>Source Verified</td>\n",
       "    </tr>\n",
       "  </tbody>\n",
       "</table>\n",
       "</div>"
      ],
      "text/plain": [
       "   addr_state  annual_inc    dti  emp_length  funded_amnt  funded_amnt_inv  \\\n",
       "1          GA     30000.0   1.00           0         2500           2500.0   \n",
       "8          CA     40000.0   5.55           4         5600           5600.0   \n",
       "9          TX     15000.0  18.08           0         5375           5350.0   \n",
       "12         VA     30000.0  10.08           0         9000           9000.0   \n",
       "14         CA    100000.0   7.06           3        10000          10000.0   \n",
       "\n",
       "   grade home_ownership  installment  int_rate    issue_d  loan_amnt  \\\n",
       "1      C           RENT        59.83     15.27 2011-12-01       2500   \n",
       "8      F            OWN       152.39     21.28 2011-12-01       5600   \n",
       "9      B           RENT       121.45     12.69 2011-12-01       5375   \n",
       "12     C           RENT       305.38     13.49 2011-12-01       9000   \n",
       "14     B           RENT       325.74     10.65 2011-12-01      10000   \n",
       "\n",
       "    loan_status             purpose  revol_util sub_grade        term  \\\n",
       "1   Charged Off                 car         9.4        C4   60 months   \n",
       "8   Charged Off      small_business        32.6        F2   60 months   \n",
       "9   Charged Off               other        36.5        B5   60 months   \n",
       "12  Charged Off  debt_consolidation        91.7        C1   36 months   \n",
       "14  Charged Off               other        55.5        B2   36 months   \n",
       "\n",
       "   verification_status  \n",
       "1      Source Verified  \n",
       "8      Source Verified  \n",
       "9             Verified  \n",
       "12     Source Verified  \n",
       "14     Source Verified  "
      ]
     },
     "execution_count": 116,
     "metadata": {},
     "output_type": "execute_result"
    }
   ],
   "source": [
    "loan_data_df.head()"
   ]
  },
  {
   "cell_type": "markdown",
   "id": "28bc2b4a",
   "metadata": {
    "id": "28bc2b4a"
   },
   "source": [
    "## Outlier Treatment"
   ]
  },
  {
   "cell_type": "code",
   "execution_count": 117,
   "id": "4b982746",
   "metadata": {
    "colab": {
     "base_uri": "https://localhost:8080/",
     "height": 426
    },
    "id": "4b982746",
    "outputId": "590ff7a9-06f5-4b94-d33c-ed2913bee200"
   },
   "outputs": [
    {
     "data": {
      "image/png": "[encoded data removed]",
      "text/plain": [
       "<Figure size 640x480 with 1 Axes>"
      ]
     },
     "metadata": {},
     "output_type": "display_data"
    }
   ],
   "source": [
    "# let do outlier treatment on annual income of customer who have defaulted\n",
    "\n",
    "sns.boxplot(loan_data_df['annual_inc'])\n",
    "plt.show()"
   ]
  },
  {
   "cell_type": "markdown",
   "id": "6442cfd4",
   "metadata": {
    "id": "6442cfd4"
   },
   "source": [
    "- We can clearly see the presence of outliers.\n",
    "- We will check the quantiles and remove them from dataframe\n",
    "- The values after 95 percentile seems to be disconected from the general distribution and also there is huge increase in the value for small quantile variation.\n",
    "- let's keep the threshold for removing outliers as 0.95"
   ]
  },
  {
   "cell_type": "code",
   "execution_count": 118,
   "id": "14a1d0f0",
   "metadata": {
    "colab": {
     "base_uri": "https://localhost:8080/",
     "height": 304
    },
    "id": "14a1d0f0",
    "outputId": "f0973ad1-80e0-4d4b-8ddb-d7a44f77ecde",
    "scrolled": true
   },
   "outputs": [
    {
     "data": {
      "text/plain": [
       "0.50     53000.00\n",
       "0.75     75000.00\n",
       "0.90    103020.00\n",
       "0.95    129697.20\n",
       "0.97    150000.00\n",
       "0.98    171483.84\n",
       "0.99    205960.00\n",
       "Name: annual_inc, dtype: float64"
      ]
     },
     "execution_count": 118,
     "metadata": {},
     "output_type": "execute_result"
    }
   ],
   "source": [
    "# Let's check the quantile info\n",
    "quantile_info = loan_data_df.annual_inc.quantile([0.5, 0.75,0.90, 0.95, 0.97,0.98, 0.99])\n",
    "quantile_info"
   ]
  },
  {
   "cell_type": "code",
   "execution_count": 119,
   "id": "1f74bd9e",
   "metadata": {
    "id": "1f74bd9e"
   },
   "outputs": [],
   "source": [
    "# we can will remove outlier from annual income\n",
    "\n",
    "loan_data_df = loan_data_df[loan_data_df.annual_inc <= 129697.20]"
   ]
  },
  {
   "cell_type": "code",
   "execution_count": 120,
   "id": "91b803c0",
   "metadata": {
    "colab": {
     "base_uri": "https://localhost:8080/"
    },
    "id": "91b803c0",
    "outputId": "779e874c-9951-465a-99b3-0ccc21576331"
   },
   "outputs": [
    {
     "data": {
      "text/plain": [
       "(5345, 18)"
      ]
     },
     "execution_count": 120,
     "metadata": {},
     "output_type": "execute_result"
    }
   ],
   "source": [
    "loan_data_df.shape"
   ]
  },
  {
   "cell_type": "code",
   "execution_count": 121,
   "id": "729cc380",
   "metadata": {
    "colab": {
     "base_uri": "https://localhost:8080/",
     "height": 411
    },
    "id": "729cc380",
    "outputId": "a189e95b-f156-445c-abe7-b85db6c2d3d8"
   },
   "outputs": [
    {
     "data": {
      "image/png": "[encoded data removed]",
      "text/plain": [
       "<Figure size 640x480 with 1 Axes>"
      ]
     },
     "metadata": {},
     "output_type": "display_data"
    }
   ],
   "source": [
    "\n",
    "sns.boxplot(loan_data_df['annual_inc'])\n",
    "plt.show()"
   ]
  },
  {
   "cell_type": "code",
   "execution_count": 122,
   "id": "2eab0445",
   "metadata": {
    "colab": {
     "base_uri": "https://localhost:8080/",
     "height": 411
    },
    "id": "2eab0445",
    "outputId": "63e3b3e2-db28-43af-d702-9518c7ad87a8"
   },
   "outputs": [
    {
     "data": {
      "image/png": "[encoded data removed]",
      "text/plain": [
       "<Figure size 640x480 with 1 Axes>"
      ]
     },
     "metadata": {},
     "output_type": "display_data"
    }
   ],
   "source": [
    "# let do outlier treatment on loan of customer who have defaulted\n",
    "\n",
    "sns.boxplot(loan_data_df['loan_amnt'])\n",
    "plt.show()"
   ]
  },
  {
   "cell_type": "code",
   "execution_count": 123,
   "id": "5dd1e22d",
   "metadata": {
    "colab": {
     "base_uri": "https://localhost:8080/",
     "height": 411
    },
    "id": "5dd1e22d",
    "outputId": "10ca6f8a-16a7-4a6c-cc22-ddc8caad1a07"
   },
   "outputs": [
    {
     "data": {
      "image/png": "[encoded data removed]",
      "text/plain": [
       "<Figure size 640x480 with 1 Axes>"
      ]
     },
     "metadata": {},
     "output_type": "display_data"
    }
   ],
   "source": [
    "# let do outlier treatment on loan of customer who have defaulted\n",
    "\n",
    "sns.boxplot(loan_data_df['funded_amnt_inv'])\n",
    "plt.show()"
   ]
  },
  {
   "cell_type": "code",
   "execution_count": 124,
   "id": "7e547576",
   "metadata": {
    "id": "7e547576"
   },
   "outputs": [],
   "source": [
    "# we can see there are very few outlier and as per box plot the data is mostly fairly distributed, hence we can leave it."
   ]
  },
  {
   "cell_type": "code",
   "execution_count": 125,
   "id": "fac34e84",
   "metadata": {
    "colab": {
     "base_uri": "https://localhost:8080/",
     "height": 335
    },
    "id": "fac34e84",
    "outputId": "3840f5f3-5be2-4960-c7ce-af7b69bdcb7a"
   },
   "outputs": [
    {
     "data": {
      "text/plain": [
       "count      5345.000000\n",
       "mean      55368.628761\n",
       "std       25111.427643\n",
       "min        4080.000000\n",
       "25%       36000.000000\n",
       "50%       51000.000000\n",
       "75%       70000.000000\n",
       "max      129000.000000\n",
       "Name: annual_inc, dtype: float64"
      ]
     },
     "execution_count": 125,
     "metadata": {},
     "output_type": "execute_result"
    }
   ],
   "source": [
    "loan_data_df.annual_inc.describe()"
   ]
  },
  {
   "cell_type": "markdown",
   "id": "bab02d05",
   "metadata": {},
   "source": [
    "## Derived Metric"
   ]
  },
  {
   "cell_type": "code",
   "execution_count": 126,
   "id": "7416502c",
   "metadata": {
    "id": "7416502c"
   },
   "outputs": [],
   "source": [
    "#Creating Group (Bins) for the Annual Income. We're taking the lowest value and till the highest value, Taking the help from above describe() result for Min and Max\n",
    "annual_inc_group = [14400,25000,50000,100000,150000,200000,234000]\n",
    "annual_inc_labels = ['14K-25K','25K-50K','50K-100K','100K-150K','150K-200K','200K-250K']"
   ]
  },
  {
   "cell_type": "code",
   "execution_count": 127,
   "id": "0d819f7e",
   "metadata": {
    "colab": {
     "base_uri": "https://localhost:8080/",
     "height": 304
    },
    "id": "0d819f7e",
    "outputId": "068fac2c-9ba0-45a1-e32a-570c9060def1"
   },
   "outputs": [
    {
     "data": {
      "text/plain": [
       "50K-100K     2422\n",
       "25K-50K      2125\n",
       "14K-25K       384\n",
       "100K-150K     310\n",
       "150K-200K       0\n",
       "200K-250K       0\n",
       "Name: annual_inc_group, dtype: int64"
      ]
     },
     "execution_count": 127,
     "metadata": {},
     "output_type": "execute_result"
    }
   ],
   "source": [
    "#new column called \"annual_inc_group\"\n",
    "loan_data_df['annual_inc_group'] = pd.cut(loan_data_df['annual_inc'], bins=annual_inc_group,\n",
    "                               labels=annual_inc_labels)\n",
    "loan_data_df['annual_inc_group'].value_counts()"
   ]
  },
  {
   "cell_type": "markdown",
   "id": "36ed3c4c",
   "metadata": {
    "id": "36ed3c4c"
   },
   "source": [
    "# Exploratory Data Analysis"
   ]
  },
  {
   "cell_type": "markdown",
   "id": "68e991ec",
   "metadata": {
    "id": "68e991ec"
   },
   "source": [
    "### Univariate Analysis"
   ]
  },
  {
   "cell_type": "code",
   "execution_count": 128,
   "id": "6b950422",
   "metadata": {
    "colab": {
     "base_uri": "https://localhost:8080/",
     "height": 532
    },
    "id": "6b950422",
    "outputId": "d39f55b3-9d84-47d5-ad75-666b0afa625b"
   },
   "outputs": [
    {
     "data": {
      "image/png": "[encoded data removed]",
      "text/plain": [
       "<Figure size 640x480 with 1 Axes>"
      ]
     },
     "metadata": {},
     "output_type": "display_data"
    }
   ],
   "source": [
    "# Segmented Univariate Analysis \n",
    "loan_data_df['annual_inc_group'].value_counts().plot(kind='bar', title='Spread of Annual Income Group')\n",
    "plt.xlabel('Annual Income Group')\n",
    "plt.title('Bar Graph of Annual Income Group')\n",
    "plt.show()\n"
   ]
  },
  {
   "cell_type": "markdown",
   "id": "17368735",
   "metadata": {
    "id": "17368735"
   },
   "source": [
    "### Observation - From this we can see, The highest loan is issued to the income group 50K-100K USD."
   ]
  },
  {
   "cell_type": "code",
   "execution_count": 129,
   "id": "55cae3ed",
   "metadata": {
    "colab": {
     "base_uri": "https://localhost:8080/",
     "height": 573
    },
    "id": "55cae3ed",
    "outputId": "c53dfbbd-0393-4c74-bf36-d0dfee9afc0f"
   },
   "outputs": [
    {
     "data": {
      "image/png": "[encoded data removed]",
      "text/plain": [
       "<Figure size 1200x600 with 1 Axes>"
      ]
     },
     "metadata": {},
     "output_type": "display_data"
    }
   ],
   "source": [
    "# Count the occurrences of each state\n",
    "state_counts = loan_data_df['addr_state'].value_counts()\n",
    "\n",
    "# Plot the bar graph\n",
    "plt.figure(figsize=(12, 6))\n",
    "sns.barplot(x=state_counts.index, y=state_counts.values, palette='viridis')\n",
    "plt.xlabel('State')\n",
    "plt.ylabel('Number of Loans')\n",
    "plt.title('Number of Loans by State')\n",
    "plt.xticks(rotation=90)\n",
    "plt.show()\n",
    "\n"
   ]
  },
  {
   "cell_type": "markdown",
   "id": "0a2d12e5",
   "metadata": {
    "id": "0a2d12e5"
   },
   "source": [
    "1. **Distribution**: The bar plot shows the distribution of counts across different states.\n",
    "2. **Highest Count**: California (CA) has the highest count, indicating it might be the state with the most loans/customers.\n",
    "3. **Lowest Count**: Illinois (IL) has the lowest count among the states listed.\n"
   ]
  },
  {
   "cell_type": "code",
   "execution_count": 130,
   "id": "ba12db78",
   "metadata": {
    "colab": {
     "base_uri": "https://localhost:8080/",
     "height": 472
    },
    "id": "ba12db78",
    "outputId": "f9cf8aff-8b96-41c2-8878-8499cf1b28d5"
   },
   "outputs": [
    {
     "data": {
      "image/png": "[encoded data removed]",
      "text/plain": [
       "<Figure size 640x480 with 1 Axes>"
      ]
     },
     "metadata": {},
     "output_type": "display_data"
    }
   ],
   "source": [
    "# Frequecny of dti of customer who have defaulted\n",
    "sns.histplot(loan_data_df['dti'], bins=40, kde=False)\n",
    "plt.xlabel('DTI')\n",
    "plt.ylabel('Frequency')\n",
    "plt.title('Histogram of DTI')\n",
    "plt.show()"
   ]
  },
  {
   "cell_type": "markdown",
   "id": "3acd07e7",
   "metadata": {
    "id": "3acd07e7"
   },
   "source": [
    "### From the observation above we can see that maximum number default customer have DTI between 10 to 24\n",
    "### Customers where DTI is between 25 to 30 have less occurrence of defaulters."
   ]
  },
  {
   "cell_type": "markdown",
   "id": "d30cc21c",
   "metadata": {},
   "source": [
    "## Bivariate Analysis"
   ]
  },
  {
   "cell_type": "code",
   "execution_count": 131,
   "id": "7e1f25da",
   "metadata": {
    "colab": {
     "base_uri": "https://localhost:8080/",
     "height": 564
    },
    "id": "7e1f25da",
    "outputId": "9240fcf8-a6c0-473b-e81f-f43ba45425b2"
   },
   "outputs": [
    {
     "data": {
      "image/png": "[encoded data removed]",
      "text/plain": [
       "<Figure size 1000x600 with 2 Axes>"
      ]
     },
     "metadata": {},
     "output_type": "display_data"
    }
   ],
   "source": [
    "# Create a cross-tabulation of grade and home_ownership\n",
    "cross_tab = pd.crosstab(loan_data_df['grade'], loan_data_df['home_ownership'])\n",
    "\n",
    "# Plot the heatmap\n",
    "plt.figure(figsize=(10, 6))\n",
    "sns.heatmap(cross_tab, annot=True, fmt='d', cmap='YlGnBu')\n",
    "plt.xlabel('Home Ownership')\n",
    "plt.ylabel('Grade')\n",
    "plt.title('Heatmap of Grade vs Home Ownership')\n",
    "plt.show()"
   ]
  },
  {
   "cell_type": "markdown",
   "id": "gUcG8zCoWqaS",
   "metadata": {
    "id": "gUcG8zCoWqaS"
   },
   "source": [
    "The heatmap provides a clear visual representation of the frequency distribution of these two variables, with annotations showing the exact counts."
   ]
  },
  {
   "cell_type": "markdown",
   "id": "4VzrCXdWXNUn",
   "metadata": {
    "id": "4VzrCXdWXNUn"
   },
   "source": [
    "From Graph it is visible that customer who belongs to Grade B and C living on rent and mortgage house have much higher tendency to be defaulted on loan."
   ]
  },
  {
   "cell_type": "code",
   "execution_count": null,
   "id": "45082671",
   "metadata": {},
   "outputs": [],
   "source": []
  },
  {
   "cell_type": "code",
   "execution_count": 132,
   "id": "6aa30120",
   "metadata": {},
   "outputs": [
    {
     "data": {
      "image/png": "[encoded data removed]",
      "text/plain": [
       "<Figure size 1000x900 with 1 Axes>"
      ]
     },
     "metadata": {},
     "output_type": "display_data"
    }
   ],
   "source": [
    "# Plotting Graph between HomeOwnership vs loan amount\n",
    "plt.figure(figsize=(10,9))\n",
    "sns.barplot(data =loan_data_df,x='home_ownership', y='loan_amnt', hue ='home_ownership',palette=\"pastel\")\n",
    "plt.xlabel('Home Ownership')\n",
    "plt.ylabel('Loan Amount')\n",
    "plt.title('Homeownership vs Loan Amount')\n",
    "plt.show()\n"
   ]
  },
  {
   "cell_type": "markdown",
   "id": "a4808ce2",
   "metadata": {},
   "source": [
    "## 1.From graph it is visible that customer which are having homeownership as Mortgage and Others have significantly more loan amount compared with rent or own category \n",
    "## 2.We have already seen then mortgage homeowner are more prone to default on loan, hence this can be consider while deciding the loan amount.\n",
    "\n"
   ]
  },
  {
   "cell_type": "code",
   "execution_count": 133,
   "id": "32a439c4",
   "metadata": {},
   "outputs": [
    {
     "data": {
      "image/png": "[encoded data removed]",
      "text/plain": [
       "<Figure size 1000x900 with 1 Axes>"
      ]
     },
     "metadata": {},
     "output_type": "display_data"
    }
   ],
   "source": [
    "# Plotting Graph between Loan vs loan purpose\n",
    "plt.figure(figsize=(10,9))\n",
    "sns.barplot(data =loan_data_df,x='loan_amnt', y='purpose', hue ='purpose',palette=\"pastel\")\n",
    "plt.xlabel('Loan Amount')\n",
    "plt.ylabel('Pupose of Loan')\n",
    "plt.title('Heatmap of Purpose vs Loan Amount')\n",
    "plt.show()\n"
   ]
  },
  {
   "cell_type": "markdown",
   "id": "98430650",
   "metadata": {},
   "source": [
    "## From Graph we can see that most of the default customer have taken loan on for small business\n",
    "## Apart from small business, debt consolidation is second highest factor for loan application"
   ]
  },
  {
   "cell_type": "code",
   "execution_count": 134,
   "id": "f0110cd9",
   "metadata": {},
   "outputs": [
    {
     "data": {
      "image/png": "[encoded data removed]",
      "text/plain": [
       "<Figure size 1000x600 with 1 Axes>"
      ]
     },
     "metadata": {},
     "output_type": "display_data"
    }
   ],
   "source": [
    "# Box plot to visualize the distribution of interest rates\n",
    "plt.figure(figsize=(10, 6))\n",
    "sns.boxplot(x='grade', y='int_rate', data=loan_data_df)\n",
    "plt.xlabel('Grade')\n",
    "plt.ylabel('Interest Rate')\n",
    "plt.title('Box Plot of Interest Rate by Grade')\n",
    "plt.show()"
   ]
  },
  {
   "cell_type": "markdown",
   "id": "ZUxbzLxjRx6i",
   "metadata": {
    "id": "ZUxbzLxjRx6i"
   },
   "source": [
    "## Multivariate Analysis"
   ]
  },
  {
   "cell_type": "code",
   "execution_count": 135,
   "id": "5e54c3b1",
   "metadata": {},
   "outputs": [
    {
     "data": {
      "text/html": [
       "<div>\n",
       "<style scoped>\n",
       "    .dataframe tbody tr th:only-of-type {\n",
       "        vertical-align: middle;\n",
       "    }\n",
       "\n",
       "    .dataframe tbody tr th {\n",
       "        vertical-align: top;\n",
       "    }\n",
       "\n",
       "    .dataframe thead th {\n",
       "        text-align: right;\n",
       "    }\n",
       "</style>\n",
       "<table border=\"1\" class=\"dataframe\">\n",
       "  <thead>\n",
       "    <tr style=\"text-align: right;\">\n",
       "      <th></th>\n",
       "      <th>annual_inc</th>\n",
       "      <th>dti</th>\n",
       "      <th>emp_length</th>\n",
       "      <th>funded_amnt</th>\n",
       "      <th>funded_amnt_inv</th>\n",
       "      <th>installment</th>\n",
       "      <th>int_rate</th>\n",
       "      <th>issue_d</th>\n",
       "      <th>loan_amnt</th>\n",
       "      <th>revol_util</th>\n",
       "    </tr>\n",
       "  </thead>\n",
       "  <tbody>\n",
       "    <tr>\n",
       "      <th>1</th>\n",
       "      <td>30000.0</td>\n",
       "      <td>1.00</td>\n",
       "      <td>0</td>\n",
       "      <td>2500</td>\n",
       "      <td>2500.0</td>\n",
       "      <td>59.83</td>\n",
       "      <td>15.27</td>\n",
       "      <td>2011-12-01</td>\n",
       "      <td>2500</td>\n",
       "      <td>9.4</td>\n",
       "    </tr>\n",
       "    <tr>\n",
       "      <th>8</th>\n",
       "      <td>40000.0</td>\n",
       "      <td>5.55</td>\n",
       "      <td>4</td>\n",
       "      <td>5600</td>\n",
       "      <td>5600.0</td>\n",
       "      <td>152.39</td>\n",
       "      <td>21.28</td>\n",
       "      <td>2011-12-01</td>\n",
       "      <td>5600</td>\n",
       "      <td>32.6</td>\n",
       "    </tr>\n",
       "    <tr>\n",
       "      <th>9</th>\n",
       "      <td>15000.0</td>\n",
       "      <td>18.08</td>\n",
       "      <td>0</td>\n",
       "      <td>5375</td>\n",
       "      <td>5350.0</td>\n",
       "      <td>121.45</td>\n",
       "      <td>12.69</td>\n",
       "      <td>2011-12-01</td>\n",
       "      <td>5375</td>\n",
       "      <td>36.5</td>\n",
       "    </tr>\n",
       "    <tr>\n",
       "      <th>12</th>\n",
       "      <td>30000.0</td>\n",
       "      <td>10.08</td>\n",
       "      <td>0</td>\n",
       "      <td>9000</td>\n",
       "      <td>9000.0</td>\n",
       "      <td>305.38</td>\n",
       "      <td>13.49</td>\n",
       "      <td>2011-12-01</td>\n",
       "      <td>9000</td>\n",
       "      <td>91.7</td>\n",
       "    </tr>\n",
       "    <tr>\n",
       "      <th>14</th>\n",
       "      <td>100000.0</td>\n",
       "      <td>7.06</td>\n",
       "      <td>3</td>\n",
       "      <td>10000</td>\n",
       "      <td>10000.0</td>\n",
       "      <td>325.74</td>\n",
       "      <td>10.65</td>\n",
       "      <td>2011-12-01</td>\n",
       "      <td>10000</td>\n",
       "      <td>55.5</td>\n",
       "    </tr>\n",
       "  </tbody>\n",
       "</table>\n",
       "</div>"
      ],
      "text/plain": [
       "    annual_inc    dti  emp_length  funded_amnt  funded_amnt_inv  installment  \\\n",
       "1      30000.0   1.00           0         2500           2500.0        59.83   \n",
       "8      40000.0   5.55           4         5600           5600.0       152.39   \n",
       "9      15000.0  18.08           0         5375           5350.0       121.45   \n",
       "12     30000.0  10.08           0         9000           9000.0       305.38   \n",
       "14    100000.0   7.06           3        10000          10000.0       325.74   \n",
       "\n",
       "    int_rate    issue_d  loan_amnt  revol_util  \n",
       "1      15.27 2011-12-01       2500         9.4  \n",
       "8      21.28 2011-12-01       5600        32.6  \n",
       "9      12.69 2011-12-01       5375        36.5  \n",
       "12     13.49 2011-12-01       9000        91.7  \n",
       "14     10.65 2011-12-01      10000        55.5  "
      ]
     },
     "execution_count": 135,
     "metadata": {},
     "output_type": "execute_result"
    }
   ],
   "source": [
    "numerical_features = loan_data_df.select_dtypes(exclude=['object', 'category']).columns.tolist()\n",
    "loan_data_df[numerical_features].head()"
   ]
  },
  {
   "cell_type": "code",
   "execution_count": 136,
   "id": "7ee03a5a",
   "metadata": {},
   "outputs": [
    {
     "data": {
      "text/plain": [
       "<seaborn.matrix.ClusterGrid at 0x1da38c1efd0>"
      ]
     },
     "execution_count": 136,
     "metadata": {},
     "output_type": "execute_result"
    },
    {
     "data": {
      "image/png": "[encoded data removed]",
      "text/plain": [
       "<Figure size 1000x1000 with 4 Axes>"
      ]
     },
     "metadata": {},
     "output_type": "display_data"
    }
   ],
   "source": [
    "#correlation matrix for numeric features.\n",
    "corrmat = loan_data_df[numerical_features].corr(method='spearman')\n",
    "cg = sns.clustermap(corrmat, cmap=\"YlGnBu\", linewidths=0.1)\n",
    "plt.setp(cg.ax_heatmap.yaxis.get_majorticklabels(), rotation=0)\n",
    "cg"
   ]
  },
  {
   "cell_type": "markdown",
   "id": "13a69419",
   "metadata": {},
   "source": [
    "# Observations\n",
    "\n",
    "## 1. The highest loan is issued to the income group 50K-100K USD. We can clearly see if the annual income is high, there are very less number of defaulters.\n",
    "## 2. California (CA) has the highest count, indicating it might be the state with the most loans/customers. Illinois (IL) has the lowest count among the states listed.\n",
    "## 3. The maximum number customer have DTI between 10 to 24. Customers where DTI is between 25 to 30 have less occurrence of defaulters\n",
    "## 4. Customer who belongs to Grade B and C living on rent and mortgage house have much higher tendency to be defaulted on loan.\n",
    "## 5. Mortgage and Others have significantly more loan amount compared with rent or own category.\n",
    "## 6. Most of the default customer have taken loan on for small business. Apart from small business, debt consolidation is second highest factor for loan application.\n",
    "\n",
    " \n",
    "\n",
    "- "
   ]
  },
  {
   "cell_type": "markdown",
   "id": "f79ba45c",
   "metadata": {},
   "source": [
    "# Recommendations\n",
    "\n",
    "## 1. Tighten eligibility criteria for loans in this income bracket to ensure borrowers can repay without overstretching their finances.\n",
    "## 2.Since California has the highest number of loan defaulters, it indicates either a high volume of loans or a riskier lending environment in the state.Perform a deeper analysis of the California market, considering factors like unemployment rates, cost of living, and other socio-economic factors that might be contributing to defaults.\n",
    "## 3. Consider reducing the allowable DTI ratio for higher-risk borrowers, especially in the 10-24 range, as their default rates are higher.\n",
    "## 4. Apply more stringent credit assessments for renters and homeowners with lower credit grades (B and C). This might include higher interest rates or more conservative loan terms.\n",
    "## 5. Introduce loan caps or tiered loan products for high-risk customers, especially for homeownership as mortgage, to avoid overextension of borrowers' financial capacities.\n",
    "## 6. Implement more rigorous business assessments for small business loans, including viability checks, cash flow analysis, and business plan evaluations to ensure borrowers can repay without going into default.\n",
    "## 7. Develop predictive models that monitor borrower behavior and trigger alerts for potential issues, such as missed payments, increases in debt levels, or other signs of financial strain.\n",
    "\n"
   ]
  },
  {
   "cell_type": "code",
   "execution_count": null,
   "id": "cb318221",
   "metadata": {},
   "outputs": [],
   "source": []
  }
 ],
 "metadata": {
  "colab": {
   "provenance": []
  },
  "kernelspec": {
   "display_name": "Python 3 (ipykernel)",
   "language": "python",
   "name": "python3"
  },
  "language_info": {
   "codemirror_mode": {
    "name": "ipython",
    "version": 3
   },
   "file_extension": ".py",
   "mimetype": "text/x-python",
   "name": "python",
   "nbconvert_exporter": "python",
   "pygments_lexer": "ipython3",
   "version": "3.9.13"
  }
 },
 "nbformat": 4,
 "nbformat_minor": 5
}
